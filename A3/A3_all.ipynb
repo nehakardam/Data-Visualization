{
 "cells": [
  {
   "cell_type": "code",
   "execution_count": 55,
   "id": "af1c8733",
   "metadata": {},
   "outputs": [],
   "source": [
    "#Loading the library \n",
    "import pandas as pd\n",
    "import plotly.express as px \n",
    "import altair as alt\n",
    "import numpy\n",
    "import numpy as np\n",
    "import pandas as pd\n",
    "import altair as alt\n",
    "from ipywidgets import interact\n",
    "#Import relevant libraries \n",
    "import pandas as pd\n",
    "import altair as alt\n",
    "import numpy as np\n",
    "from ipywidgets import interact"
   ]
  },
  {
   "cell_type": "code",
   "execution_count": 68,
   "id": "49f1b896",
   "metadata": {},
   "outputs": [],
   "source": [
    "df = pd.read_csv('/Users/nehakardam/Documents/UWclasses /CSE Data Visualization/A3/Data/Inflation_data_cleaned_formatted.csv')"
   ]
  },
  {
   "cell_type": "code",
   "execution_count": 69,
   "id": "02e0ae6d",
   "metadata": {},
   "outputs": [],
   "source": [
    "data = data.copy()\n",
    "def make_altair_chart(Measure):\n",
    "    brush = alt.selection(type = 'interval', encodings = ['x'],)\n",
    "    \n",
    "    upper_chart = alt.Chart(data[data['Measure'] == Measure]).mark_line().encode(\n",
    "        x = alt.X('Year:T', timeUnit='year', scale = {'domain': brush.ref()}, axis = alt.Axis(title = 'Year') ,),\n",
    "        y = alt.Y('Value:Q', axis = alt.Axis(title = 'Inflation',), ),\n",
    "        color = alt.Color('Recession', legend = alt.Legend(title = 'Inflation'),),\n",
    "    ).properties(\n",
    "        title = f'{Measure}'.capitalize(),\n",
    "        width = 500,\n",
    "        height = 300,\n",
    "    )\n",
    "    \n",
    "    lower_chart = upper_chart.properties(\n",
    "        title = '',\n",
    "        selection = brush,\n",
    "        height = 60,\n",
    "    )\n",
    "    \n",
    "    chart = alt.vconcat(upper_chart, lower_chart)\n",
    "    \n",
    "    return chart"
   ]
  },
  {
   "cell_type": "code",
   "execution_count": 70,
   "id": "fc468444",
   "metadata": {},
   "outputs": [
    {
     "data": {
      "application/vnd.jupyter.widget-view+json": {
       "model_id": "fae04bb903f34ff998a5835619131b2e",
       "version_major": 2,
       "version_minor": 0
      },
      "text/plain": [
       "interactive(children=(Dropdown(description='Measure', options=('Inflation', 'Mortage', 'Unemployment Rate', 'W…"
      ]
     },
     "metadata": {},
     "output_type": "display_data"
    }
   ],
   "source": [
    "interact(make_altair_chart, Measure = sorted(df['Measure'].unique()), );"
   ]
  },
  {
   "cell_type": "code",
   "execution_count": 73,
   "id": "c1aa8717",
   "metadata": {},
   "outputs": [
    {
     "data": {
      "application/vnd.plotly.v1+json": {
       "config": {
        "plotlyServerURL": "https://plot.ly"
       },
       "data": [
        {
         "hovertemplate": "Measure rates=Inflation<br>Year (1971-2022)=%{x}<br>Value=%{y}<extra></extra>",
         "legendgroup": "Inflation",
         "line": {
          "color": "#636efa",
          "dash": "solid"
         },
         "marker": {
          "symbol": "circle"
         },
         "mode": "lines",
         "name": "Inflation",
         "orientation": "v",
         "showlegend": true,
         "textposition": "top center",
         "type": "scatter",
         "x": [
          1977,
          1978,
          1979,
          1980,
          1981,
          1982,
          1983,
          1984,
          1985,
          1986,
          1987,
          1988,
          1989,
          1990,
          1991,
          1992,
          1993,
          1994,
          1995,
          1996,
          1997,
          1998,
          1999,
          2000,
          2001,
          2002,
          2003,
          2004,
          2005,
          2006,
          2007,
          2008,
          2009,
          2010,
          2011,
          2012,
          2013,
          2014,
          2015,
          2016,
          2017,
          2018,
          2019,
          2020,
          2021
         ],
         "xaxis": "x",
         "y": [
          6.501683995,
          7.630963839,
          11.25447113,
          13.54920197,
          10.33471534,
          6.131427,
          3.212435233,
          4.300535475,
          3.545644152,
          1.898047722,
          3.664563218,
          4.077741107,
          4.82700303,
          5.39795644,
          4.234963965,
          3.028819678,
          2.951656966,
          2.607441592,
          2.805419689,
          2.9312042,
          2.337689937,
          1.552279099,
          2.188027197,
          3.376857271,
          2.826171119,
          1.586031627,
          2.270094973,
          2.677236693,
          3.392746845,
          3.225944101,
          2.852672482,
          3.839100297,
          -0.355546266,
          1.640043442,
          3.156841569,
          2.069337265,
          1.464832656,
          1.622222977,
          0.118627136,
          1.261583206,
          2.130110004,
          2.442583297,
          1.812210075,
          1.233584396,
          4.697858864
         ],
         "yaxis": "y"
        },
        {
         "hovertemplate": "Measure rates=Unemployment Rate<br>Year (1971-2022)=%{x}<br>Value=%{y}<extra></extra>",
         "legendgroup": "Unemployment Rate",
         "line": {
          "color": "#EF553B",
          "dash": "solid"
         },
         "marker": {
          "symbol": "circle"
         },
         "mode": "lines",
         "name": "Unemployment Rate",
         "orientation": "v",
         "showlegend": true,
         "textposition": "top center",
         "type": "scatter",
         "x": [
          1977,
          1978,
          1979,
          1980,
          1981,
          1982,
          1983,
          1984,
          1985,
          1986,
          1987,
          1988,
          1989,
          1990,
          1991,
          1992,
          1993,
          1994,
          1995,
          1996,
          1997,
          1998,
          1999,
          2000,
          2001,
          2002,
          2003,
          2004,
          2005,
          2006,
          2007,
          2008,
          2009,
          2010,
          2011,
          2012,
          2013,
          2014,
          2015,
          2016,
          2017,
          2018,
          2019,
          2020,
          2021
         ],
         "xaxis": "x",
         "y": [
          7.05,
          6.066666667,
          5.85,
          7.175,
          7.616666667,
          9.708333333,
          9.6,
          7.508333333,
          7.191666667,
          7,
          6.175,
          5.491666667,
          5.258333333,
          5.616666667,
          6.85,
          7.491666667,
          6.908333333,
          6.1,
          5.591666667,
          5.408333333,
          4.941666667,
          4.5,
          4.216666667,
          3.966666667,
          4.741666667,
          5.783333333,
          5.991666667,
          5.541666667,
          5.083333333,
          4.608333333,
          4.616666667,
          5.8,
          9.283333333,
          9.608333333,
          8.933333333,
          8.075,
          7.358333333,
          6.158333333,
          5.275,
          4.875,
          4.358333333,
          3.891666667,
          3.675,
          8.091666667,
          5.358333333
         ],
         "yaxis": "y"
        },
        {
         "hovertemplate": "Measure rates=Wage Change Rate<br>Year (1971-2022)=%{x}<br>Value=%{y}<extra></extra>",
         "legendgroup": "Wage Change Rate",
         "line": {
          "color": "#00cc96",
          "dash": "solid"
         },
         "marker": {
          "symbol": "circle"
         },
         "mode": "lines",
         "name": "Wage Change Rate",
         "orientation": "v",
         "showlegend": true,
         "textposition": "top center",
         "type": "scatter",
         "x": [
          1977,
          1978,
          1979,
          1980,
          1981,
          1982,
          1983,
          1984,
          1985,
          1986,
          1987,
          1988,
          1989,
          1990,
          1991,
          1992,
          1993,
          1994,
          1995,
          1996,
          1997,
          1998,
          1999,
          2000,
          2001,
          2002,
          2003,
          2004,
          2005,
          2006,
          2007,
          2008,
          2009,
          2010,
          2011,
          2012,
          2013,
          2014,
          2015,
          2016,
          2017,
          2018,
          2019,
          2020,
          2021
         ],
         "xaxis": "x",
         "y": [
          10.49171,
          12.71595,
          11.84585,
          9.58324,
          10.04423,
          5.03791,
          5.66923,
          9.97953,
          7.4592,
          6.04149,
          7.32327,
          8.13361,
          5.8714,
          6.12295,
          2.6728,
          5.3681,
          3.83712,
          5.10688,
          5.60516,
          5.80624,
          7.19946,
          7.86143,
          6.60749,
          8.23329,
          2.66704,
          0.85224,
          2.8507,
          5.50299,
          4.98722,
          6.4195,
          5.60766,
          2.15291,
          -4.36148,
          1.97482,
          3.98064,
          4.55667,
          2.68303,
          5.09301,
          5.12507,
          2.94888,
          4.73897,
          5.02476,
          4.75272,
          1.29305,
          9.35002
         ],
         "yaxis": "y"
        },
        {
         "hovertemplate": "Measure rates=Mortage<br>Year (1971-2022)=%{x}<br>Value=%{y}<extra></extra>",
         "legendgroup": "Mortage",
         "line": {
          "color": "#ab63fa",
          "dash": "solid"
         },
         "marker": {
          "symbol": "circle"
         },
         "mode": "lines",
         "name": "Mortage",
         "orientation": "v",
         "showlegend": true,
         "textposition": "top center",
         "type": "scatter",
         "x": [
          1977,
          1978,
          1979,
          1980,
          1981,
          1982,
          1983,
          1984,
          1985,
          1986,
          1987,
          1988,
          1989,
          1990,
          1991,
          1992,
          1993,
          1994,
          1995,
          1996,
          1997,
          1998,
          1999,
          2000,
          2001,
          2002,
          2003,
          2004,
          2005,
          2006,
          2007,
          2008,
          2009,
          2010,
          2011,
          2012,
          2013,
          2014,
          2015,
          2016,
          2017,
          2018,
          2019,
          2020,
          2021
         ],
         "xaxis": "x",
         "y": [
          8.84,
          9.63,
          11.19,
          13.74,
          16.64,
          16.04,
          13.24,
          13.88,
          12.46,
          10.19,
          10.21,
          10.34,
          10.32,
          10.13,
          9.25,
          8.39,
          7.31,
          8.38,
          7.93,
          7.81,
          7.6,
          6.94,
          7.44,
          8.05,
          6.97,
          6.54,
          5.83,
          5.84,
          5.87,
          6.41,
          6.34,
          6.01,
          5.04,
          4.69,
          4.45,
          3.66,
          3.98,
          4.17,
          3.85,
          3.65,
          3.99,
          4.54,
          3.94,
          3.11,
          2.96
         ],
         "yaxis": "y"
        },
        {
         "hovertemplate": "Measure rates=WTI Crude Oil <br>Year (1971-2022)=%{x}<br>Value=%{y}<extra></extra>",
         "legendgroup": "WTI Crude Oil ",
         "line": {
          "color": "#FFA15A",
          "dash": "solid"
         },
         "marker": {
          "symbol": "circle"
         },
         "mode": "lines",
         "name": "WTI Crude Oil ",
         "orientation": "v",
         "showlegend": true,
         "textposition": "top center",
         "type": "scatter",
         "x": [
          1977,
          1978,
          1979,
          1980,
          1981,
          1982,
          1983,
          1984,
          1985,
          1986,
          1987,
          1988,
          1989,
          1990,
          1991,
          1992,
          1993,
          1994,
          1995,
          1996,
          1997,
          1998,
          1999,
          2000,
          2001,
          2002,
          2003,
          2004,
          2005,
          2006,
          2007,
          2008,
          2009,
          2010,
          2011,
          2012,
          2013,
          2014,
          2015,
          2016,
          2017,
          2018,
          2019,
          2020,
          2021
         ],
         "xaxis": "x",
         "y": [
          13.05523,
          3.87642,
          50.86981,
          66.82165,
          -1.89521,
          -8.26591,
          -9.63506,
          -3.68317,
          -4.44997,
          -46.23339,
          27.40636,
          -16.71197,
          22.75279,
          25.02233,
          -12.29607,
          -4.28203,
          -10.22911,
          -6.89306,
          7.22494,
          20.2234,
          -7.019,
          -30.1509,
          33.80053,
          57.38031,
          -14.43699,
          0.66862,
          19.32177,
          33.07108,
          36.26473,
          17.06784,
          9.46876,
          37.59544,
          -38.03868,
          28.74568,
          19.70245,
          -0.92119,
          3.96493,
          -4.77609,
          -47.79198,
          -11.38705,
          17.93985,
          27.61992,
          -12.2488,
          -31.1607,
          73.31591
         ],
         "yaxis": "y"
        }
       ],
       "layout": {
        "height": 700,
        "legend": {
         "title": {
          "text": "Measure rates"
         },
         "tracegroupgap": 0
        },
        "margin": {
         "t": 60
        },
        "template": {
         "data": {
          "bar": [
           {
            "error_x": {
             "color": "#2a3f5f"
            },
            "error_y": {
             "color": "#2a3f5f"
            },
            "marker": {
             "line": {
              "color": "#E5ECF6",
              "width": 0.5
             },
             "pattern": {
              "fillmode": "overlay",
              "size": 10,
              "solidity": 0.2
             }
            },
            "type": "bar"
           }
          ],
          "barpolar": [
           {
            "marker": {
             "line": {
              "color": "#E5ECF6",
              "width": 0.5
             },
             "pattern": {
              "fillmode": "overlay",
              "size": 10,
              "solidity": 0.2
             }
            },
            "type": "barpolar"
           }
          ],
          "carpet": [
           {
            "aaxis": {
             "endlinecolor": "#2a3f5f",
             "gridcolor": "white",
             "linecolor": "white",
             "minorgridcolor": "white",
             "startlinecolor": "#2a3f5f"
            },
            "baxis": {
             "endlinecolor": "#2a3f5f",
             "gridcolor": "white",
             "linecolor": "white",
             "minorgridcolor": "white",
             "startlinecolor": "#2a3f5f"
            },
            "type": "carpet"
           }
          ],
          "choropleth": [
           {
            "colorbar": {
             "outlinewidth": 0,
             "ticks": ""
            },
            "type": "choropleth"
           }
          ],
          "contour": [
           {
            "colorbar": {
             "outlinewidth": 0,
             "ticks": ""
            },
            "colorscale": [
             [
              0,
              "#0d0887"
             ],
             [
              0.1111111111111111,
              "#46039f"
             ],
             [
              0.2222222222222222,
              "#7201a8"
             ],
             [
              0.3333333333333333,
              "#9c179e"
             ],
             [
              0.4444444444444444,
              "#bd3786"
             ],
             [
              0.5555555555555556,
              "#d8576b"
             ],
             [
              0.6666666666666666,
              "#ed7953"
             ],
             [
              0.7777777777777778,
              "#fb9f3a"
             ],
             [
              0.8888888888888888,
              "#fdca26"
             ],
             [
              1,
              "#f0f921"
             ]
            ],
            "type": "contour"
           }
          ],
          "contourcarpet": [
           {
            "colorbar": {
             "outlinewidth": 0,
             "ticks": ""
            },
            "type": "contourcarpet"
           }
          ],
          "heatmap": [
           {
            "colorbar": {
             "outlinewidth": 0,
             "ticks": ""
            },
            "colorscale": [
             [
              0,
              "#0d0887"
             ],
             [
              0.1111111111111111,
              "#46039f"
             ],
             [
              0.2222222222222222,
              "#7201a8"
             ],
             [
              0.3333333333333333,
              "#9c179e"
             ],
             [
              0.4444444444444444,
              "#bd3786"
             ],
             [
              0.5555555555555556,
              "#d8576b"
             ],
             [
              0.6666666666666666,
              "#ed7953"
             ],
             [
              0.7777777777777778,
              "#fb9f3a"
             ],
             [
              0.8888888888888888,
              "#fdca26"
             ],
             [
              1,
              "#f0f921"
             ]
            ],
            "type": "heatmap"
           }
          ],
          "heatmapgl": [
           {
            "colorbar": {
             "outlinewidth": 0,
             "ticks": ""
            },
            "colorscale": [
             [
              0,
              "#0d0887"
             ],
             [
              0.1111111111111111,
              "#46039f"
             ],
             [
              0.2222222222222222,
              "#7201a8"
             ],
             [
              0.3333333333333333,
              "#9c179e"
             ],
             [
              0.4444444444444444,
              "#bd3786"
             ],
             [
              0.5555555555555556,
              "#d8576b"
             ],
             [
              0.6666666666666666,
              "#ed7953"
             ],
             [
              0.7777777777777778,
              "#fb9f3a"
             ],
             [
              0.8888888888888888,
              "#fdca26"
             ],
             [
              1,
              "#f0f921"
             ]
            ],
            "type": "heatmapgl"
           }
          ],
          "histogram": [
           {
            "marker": {
             "pattern": {
              "fillmode": "overlay",
              "size": 10,
              "solidity": 0.2
             }
            },
            "type": "histogram"
           }
          ],
          "histogram2d": [
           {
            "colorbar": {
             "outlinewidth": 0,
             "ticks": ""
            },
            "colorscale": [
             [
              0,
              "#0d0887"
             ],
             [
              0.1111111111111111,
              "#46039f"
             ],
             [
              0.2222222222222222,
              "#7201a8"
             ],
             [
              0.3333333333333333,
              "#9c179e"
             ],
             [
              0.4444444444444444,
              "#bd3786"
             ],
             [
              0.5555555555555556,
              "#d8576b"
             ],
             [
              0.6666666666666666,
              "#ed7953"
             ],
             [
              0.7777777777777778,
              "#fb9f3a"
             ],
             [
              0.8888888888888888,
              "#fdca26"
             ],
             [
              1,
              "#f0f921"
             ]
            ],
            "type": "histogram2d"
           }
          ],
          "histogram2dcontour": [
           {
            "colorbar": {
             "outlinewidth": 0,
             "ticks": ""
            },
            "colorscale": [
             [
              0,
              "#0d0887"
             ],
             [
              0.1111111111111111,
              "#46039f"
             ],
             [
              0.2222222222222222,
              "#7201a8"
             ],
             [
              0.3333333333333333,
              "#9c179e"
             ],
             [
              0.4444444444444444,
              "#bd3786"
             ],
             [
              0.5555555555555556,
              "#d8576b"
             ],
             [
              0.6666666666666666,
              "#ed7953"
             ],
             [
              0.7777777777777778,
              "#fb9f3a"
             ],
             [
              0.8888888888888888,
              "#fdca26"
             ],
             [
              1,
              "#f0f921"
             ]
            ],
            "type": "histogram2dcontour"
           }
          ],
          "mesh3d": [
           {
            "colorbar": {
             "outlinewidth": 0,
             "ticks": ""
            },
            "type": "mesh3d"
           }
          ],
          "parcoords": [
           {
            "line": {
             "colorbar": {
              "outlinewidth": 0,
              "ticks": ""
             }
            },
            "type": "parcoords"
           }
          ],
          "pie": [
           {
            "automargin": true,
            "type": "pie"
           }
          ],
          "scatter": [
           {
            "marker": {
             "colorbar": {
              "outlinewidth": 0,
              "ticks": ""
             }
            },
            "type": "scatter"
           }
          ],
          "scatter3d": [
           {
            "line": {
             "colorbar": {
              "outlinewidth": 0,
              "ticks": ""
             }
            },
            "marker": {
             "colorbar": {
              "outlinewidth": 0,
              "ticks": ""
             }
            },
            "type": "scatter3d"
           }
          ],
          "scattercarpet": [
           {
            "marker": {
             "colorbar": {
              "outlinewidth": 0,
              "ticks": ""
             }
            },
            "type": "scattercarpet"
           }
          ],
          "scattergeo": [
           {
            "marker": {
             "colorbar": {
              "outlinewidth": 0,
              "ticks": ""
             }
            },
            "type": "scattergeo"
           }
          ],
          "scattergl": [
           {
            "marker": {
             "colorbar": {
              "outlinewidth": 0,
              "ticks": ""
             }
            },
            "type": "scattergl"
           }
          ],
          "scattermapbox": [
           {
            "marker": {
             "colorbar": {
              "outlinewidth": 0,
              "ticks": ""
             }
            },
            "type": "scattermapbox"
           }
          ],
          "scatterpolar": [
           {
            "marker": {
             "colorbar": {
              "outlinewidth": 0,
              "ticks": ""
             }
            },
            "type": "scatterpolar"
           }
          ],
          "scatterpolargl": [
           {
            "marker": {
             "colorbar": {
              "outlinewidth": 0,
              "ticks": ""
             }
            },
            "type": "scatterpolargl"
           }
          ],
          "scatterternary": [
           {
            "marker": {
             "colorbar": {
              "outlinewidth": 0,
              "ticks": ""
             }
            },
            "type": "scatterternary"
           }
          ],
          "surface": [
           {
            "colorbar": {
             "outlinewidth": 0,
             "ticks": ""
            },
            "colorscale": [
             [
              0,
              "#0d0887"
             ],
             [
              0.1111111111111111,
              "#46039f"
             ],
             [
              0.2222222222222222,
              "#7201a8"
             ],
             [
              0.3333333333333333,
              "#9c179e"
             ],
             [
              0.4444444444444444,
              "#bd3786"
             ],
             [
              0.5555555555555556,
              "#d8576b"
             ],
             [
              0.6666666666666666,
              "#ed7953"
             ],
             [
              0.7777777777777778,
              "#fb9f3a"
             ],
             [
              0.8888888888888888,
              "#fdca26"
             ],
             [
              1,
              "#f0f921"
             ]
            ],
            "type": "surface"
           }
          ],
          "table": [
           {
            "cells": {
             "fill": {
              "color": "#EBF0F8"
             },
             "line": {
              "color": "white"
             }
            },
            "header": {
             "fill": {
              "color": "#C8D4E3"
             },
             "line": {
              "color": "white"
             }
            },
            "type": "table"
           }
          ]
         },
         "layout": {
          "annotationdefaults": {
           "arrowcolor": "#2a3f5f",
           "arrowhead": 0,
           "arrowwidth": 1
          },
          "autotypenumbers": "strict",
          "coloraxis": {
           "colorbar": {
            "outlinewidth": 0,
            "ticks": ""
           }
          },
          "colorscale": {
           "diverging": [
            [
             0,
             "#8e0152"
            ],
            [
             0.1,
             "#c51b7d"
            ],
            [
             0.2,
             "#de77ae"
            ],
            [
             0.3,
             "#f1b6da"
            ],
            [
             0.4,
             "#fde0ef"
            ],
            [
             0.5,
             "#f7f7f7"
            ],
            [
             0.6,
             "#e6f5d0"
            ],
            [
             0.7,
             "#b8e186"
            ],
            [
             0.8,
             "#7fbc41"
            ],
            [
             0.9,
             "#4d9221"
            ],
            [
             1,
             "#276419"
            ]
           ],
           "sequential": [
            [
             0,
             "#0d0887"
            ],
            [
             0.1111111111111111,
             "#46039f"
            ],
            [
             0.2222222222222222,
             "#7201a8"
            ],
            [
             0.3333333333333333,
             "#9c179e"
            ],
            [
             0.4444444444444444,
             "#bd3786"
            ],
            [
             0.5555555555555556,
             "#d8576b"
            ],
            [
             0.6666666666666666,
             "#ed7953"
            ],
            [
             0.7777777777777778,
             "#fb9f3a"
            ],
            [
             0.8888888888888888,
             "#fdca26"
            ],
            [
             1,
             "#f0f921"
            ]
           ],
           "sequentialminus": [
            [
             0,
             "#0d0887"
            ],
            [
             0.1111111111111111,
             "#46039f"
            ],
            [
             0.2222222222222222,
             "#7201a8"
            ],
            [
             0.3333333333333333,
             "#9c179e"
            ],
            [
             0.4444444444444444,
             "#bd3786"
            ],
            [
             0.5555555555555556,
             "#d8576b"
            ],
            [
             0.6666666666666666,
             "#ed7953"
            ],
            [
             0.7777777777777778,
             "#fb9f3a"
            ],
            [
             0.8888888888888888,
             "#fdca26"
            ],
            [
             1,
             "#f0f921"
            ]
           ]
          },
          "colorway": [
           "#636efa",
           "#EF553B",
           "#00cc96",
           "#ab63fa",
           "#FFA15A",
           "#19d3f3",
           "#FF6692",
           "#B6E880",
           "#FF97FF",
           "#FECB52"
          ],
          "font": {
           "color": "#2a3f5f"
          },
          "geo": {
           "bgcolor": "white",
           "lakecolor": "white",
           "landcolor": "#E5ECF6",
           "showlakes": true,
           "showland": true,
           "subunitcolor": "white"
          },
          "hoverlabel": {
           "align": "left"
          },
          "hovermode": "closest",
          "mapbox": {
           "style": "light"
          },
          "paper_bgcolor": "white",
          "plot_bgcolor": "#E5ECF6",
          "polar": {
           "angularaxis": {
            "gridcolor": "white",
            "linecolor": "white",
            "ticks": ""
           },
           "bgcolor": "#E5ECF6",
           "radialaxis": {
            "gridcolor": "white",
            "linecolor": "white",
            "ticks": ""
           }
          },
          "scene": {
           "xaxis": {
            "backgroundcolor": "#E5ECF6",
            "gridcolor": "white",
            "gridwidth": 2,
            "linecolor": "white",
            "showbackground": true,
            "ticks": "",
            "zerolinecolor": "white"
           },
           "yaxis": {
            "backgroundcolor": "#E5ECF6",
            "gridcolor": "white",
            "gridwidth": 2,
            "linecolor": "white",
            "showbackground": true,
            "ticks": "",
            "zerolinecolor": "white"
           },
           "zaxis": {
            "backgroundcolor": "#E5ECF6",
            "gridcolor": "white",
            "gridwidth": 2,
            "linecolor": "white",
            "showbackground": true,
            "ticks": "",
            "zerolinecolor": "white"
           }
          },
          "shapedefaults": {
           "line": {
            "color": "#2a3f5f"
           }
          },
          "ternary": {
           "aaxis": {
            "gridcolor": "white",
            "linecolor": "white",
            "ticks": ""
           },
           "baxis": {
            "gridcolor": "white",
            "linecolor": "white",
            "ticks": ""
           },
           "bgcolor": "#E5ECF6",
           "caxis": {
            "gridcolor": "white",
            "linecolor": "white",
            "ticks": ""
           }
          },
          "title": {
           "x": 0.05
          },
          "xaxis": {
           "automargin": true,
           "gridcolor": "white",
           "linecolor": "white",
           "ticks": "",
           "title": {
            "standoff": 15
           },
           "zerolinecolor": "white",
           "zerolinewidth": 2
          },
          "yaxis": {
           "automargin": true,
           "gridcolor": "white",
           "linecolor": "white",
           "ticks": "",
           "title": {
            "standoff": 15
           },
           "zerolinecolor": "white",
           "zerolinewidth": 2
          }
         }
        },
        "title": {
         "text": "US Measure rates"
        },
        "width": 1100,
        "xaxis": {
         "anchor": "y",
         "domain": [
          0,
          1
         ],
         "title": {
          "text": "Year (1971-2022)"
         }
        },
        "yaxis": {
         "anchor": "x",
         "domain": [
          0,
          1
         ],
         "title": {
          "text": "Value"
         }
        }
       }
      },
      "text/html": [
       "<div>                            <div id=\"836bff0d-5a8b-49f2-b103-31b6cae7111a\" class=\"plotly-graph-div\" style=\"height:700px; width:1100px;\"></div>            <script type=\"text/javascript\">                require([\"plotly\"], function(Plotly) {                    window.PLOTLYENV=window.PLOTLYENV || {};                                    if (document.getElementById(\"836bff0d-5a8b-49f2-b103-31b6cae7111a\")) {                    Plotly.newPlot(                        \"836bff0d-5a8b-49f2-b103-31b6cae7111a\",                        [{\"hovertemplate\":\"Measure rates=Inflation<br>Year (1971-2022)=%{x}<br>Value=%{y}<extra></extra>\",\"legendgroup\":\"Inflation\",\"line\":{\"color\":\"#636efa\",\"dash\":\"solid\"},\"marker\":{\"symbol\":\"circle\"},\"mode\":\"lines\",\"name\":\"Inflation\",\"orientation\":\"v\",\"showlegend\":true,\"x\":[1977,1978,1979,1980,1981,1982,1983,1984,1985,1986,1987,1988,1989,1990,1991,1992,1993,1994,1995,1996,1997,1998,1999,2000,2001,2002,2003,2004,2005,2006,2007,2008,2009,2010,2011,2012,2013,2014,2015,2016,2017,2018,2019,2020,2021],\"xaxis\":\"x\",\"y\":[6.501683995,7.630963839,11.25447113,13.54920197,10.33471534,6.131427,3.212435233,4.300535475,3.545644152,1.898047722,3.664563218,4.077741107,4.82700303,5.39795644,4.234963965,3.028819678,2.951656966,2.607441592,2.805419689,2.9312042,2.337689937,1.552279099,2.188027197,3.376857271,2.826171119,1.586031627,2.270094973,2.677236693,3.392746845,3.225944101,2.852672482,3.839100297,-0.355546266,1.640043442,3.156841569,2.069337265,1.464832656,1.622222977,0.118627136,1.261583206,2.130110004,2.442583297,1.812210075,1.233584396,4.697858864],\"yaxis\":\"y\",\"type\":\"scatter\",\"textposition\":\"top center\"},{\"hovertemplate\":\"Measure rates=Unemployment Rate<br>Year (1971-2022)=%{x}<br>Value=%{y}<extra></extra>\",\"legendgroup\":\"Unemployment Rate\",\"line\":{\"color\":\"#EF553B\",\"dash\":\"solid\"},\"marker\":{\"symbol\":\"circle\"},\"mode\":\"lines\",\"name\":\"Unemployment Rate\",\"orientation\":\"v\",\"showlegend\":true,\"x\":[1977,1978,1979,1980,1981,1982,1983,1984,1985,1986,1987,1988,1989,1990,1991,1992,1993,1994,1995,1996,1997,1998,1999,2000,2001,2002,2003,2004,2005,2006,2007,2008,2009,2010,2011,2012,2013,2014,2015,2016,2017,2018,2019,2020,2021],\"xaxis\":\"x\",\"y\":[7.05,6.066666667,5.85,7.175,7.616666667,9.708333333,9.6,7.508333333,7.191666667,7.0,6.175,5.491666667,5.258333333,5.616666667,6.85,7.491666667,6.908333333,6.1,5.591666667,5.408333333,4.941666667,4.5,4.216666667,3.966666667,4.741666667,5.783333333,5.991666667,5.541666667,5.083333333,4.608333333,4.616666667,5.8,9.283333333,9.608333333,8.933333333,8.075,7.358333333,6.158333333,5.275,4.875,4.358333333,3.891666667,3.675,8.091666667,5.358333333],\"yaxis\":\"y\",\"type\":\"scatter\",\"textposition\":\"top center\"},{\"hovertemplate\":\"Measure rates=Wage Change Rate<br>Year (1971-2022)=%{x}<br>Value=%{y}<extra></extra>\",\"legendgroup\":\"Wage Change Rate\",\"line\":{\"color\":\"#00cc96\",\"dash\":\"solid\"},\"marker\":{\"symbol\":\"circle\"},\"mode\":\"lines\",\"name\":\"Wage Change Rate\",\"orientation\":\"v\",\"showlegend\":true,\"x\":[1977,1978,1979,1980,1981,1982,1983,1984,1985,1986,1987,1988,1989,1990,1991,1992,1993,1994,1995,1996,1997,1998,1999,2000,2001,2002,2003,2004,2005,2006,2007,2008,2009,2010,2011,2012,2013,2014,2015,2016,2017,2018,2019,2020,2021],\"xaxis\":\"x\",\"y\":[10.49171,12.71595,11.84585,9.58324,10.04423,5.03791,5.66923,9.97953,7.4592,6.04149,7.32327,8.13361,5.8714,6.12295,2.6728,5.3681,3.83712,5.10688,5.60516,5.80624,7.19946,7.86143,6.60749,8.23329,2.66704,0.85224,2.8507,5.50299,4.98722,6.4195,5.60766,2.15291,-4.36148,1.97482,3.98064,4.55667,2.68303,5.09301,5.12507,2.94888,4.73897,5.02476,4.75272,1.29305,9.35002],\"yaxis\":\"y\",\"type\":\"scatter\",\"textposition\":\"top center\"},{\"hovertemplate\":\"Measure rates=Mortage<br>Year (1971-2022)=%{x}<br>Value=%{y}<extra></extra>\",\"legendgroup\":\"Mortage\",\"line\":{\"color\":\"#ab63fa\",\"dash\":\"solid\"},\"marker\":{\"symbol\":\"circle\"},\"mode\":\"lines\",\"name\":\"Mortage\",\"orientation\":\"v\",\"showlegend\":true,\"x\":[1977,1978,1979,1980,1981,1982,1983,1984,1985,1986,1987,1988,1989,1990,1991,1992,1993,1994,1995,1996,1997,1998,1999,2000,2001,2002,2003,2004,2005,2006,2007,2008,2009,2010,2011,2012,2013,2014,2015,2016,2017,2018,2019,2020,2021],\"xaxis\":\"x\",\"y\":[8.84,9.63,11.19,13.74,16.64,16.04,13.24,13.88,12.46,10.19,10.21,10.34,10.32,10.13,9.25,8.39,7.31,8.38,7.93,7.81,7.6,6.94,7.44,8.05,6.97,6.54,5.83,5.84,5.87,6.41,6.34,6.01,5.04,4.69,4.45,3.66,3.98,4.17,3.85,3.65,3.99,4.54,3.94,3.11,2.96],\"yaxis\":\"y\",\"type\":\"scatter\",\"textposition\":\"top center\"},{\"hovertemplate\":\"Measure rates=WTI Crude Oil <br>Year (1971-2022)=%{x}<br>Value=%{y}<extra></extra>\",\"legendgroup\":\"WTI Crude Oil \",\"line\":{\"color\":\"#FFA15A\",\"dash\":\"solid\"},\"marker\":{\"symbol\":\"circle\"},\"mode\":\"lines\",\"name\":\"WTI Crude Oil \",\"orientation\":\"v\",\"showlegend\":true,\"x\":[1977,1978,1979,1980,1981,1982,1983,1984,1985,1986,1987,1988,1989,1990,1991,1992,1993,1994,1995,1996,1997,1998,1999,2000,2001,2002,2003,2004,2005,2006,2007,2008,2009,2010,2011,2012,2013,2014,2015,2016,2017,2018,2019,2020,2021],\"xaxis\":\"x\",\"y\":[13.05523,3.87642,50.86981,66.82165,-1.89521,-8.26591,-9.63506,-3.68317,-4.44997,-46.23339,27.40636,-16.71197,22.75279,25.02233,-12.29607,-4.28203,-10.22911,-6.89306,7.22494,20.2234,-7.019,-30.1509,33.80053,57.38031,-14.43699,0.66862,19.32177,33.07108,36.26473,17.06784,9.46876,37.59544,-38.03868,28.74568,19.70245,-0.92119,3.96493,-4.77609,-47.79198,-11.38705,17.93985,27.61992,-12.2488,-31.1607,73.31591],\"yaxis\":\"y\",\"type\":\"scatter\",\"textposition\":\"top center\"}],                        {\"template\":{\"data\":{\"bar\":[{\"error_x\":{\"color\":\"#2a3f5f\"},\"error_y\":{\"color\":\"#2a3f5f\"},\"marker\":{\"line\":{\"color\":\"#E5ECF6\",\"width\":0.5},\"pattern\":{\"fillmode\":\"overlay\",\"size\":10,\"solidity\":0.2}},\"type\":\"bar\"}],\"barpolar\":[{\"marker\":{\"line\":{\"color\":\"#E5ECF6\",\"width\":0.5},\"pattern\":{\"fillmode\":\"overlay\",\"size\":10,\"solidity\":0.2}},\"type\":\"barpolar\"}],\"carpet\":[{\"aaxis\":{\"endlinecolor\":\"#2a3f5f\",\"gridcolor\":\"white\",\"linecolor\":\"white\",\"minorgridcolor\":\"white\",\"startlinecolor\":\"#2a3f5f\"},\"baxis\":{\"endlinecolor\":\"#2a3f5f\",\"gridcolor\":\"white\",\"linecolor\":\"white\",\"minorgridcolor\":\"white\",\"startlinecolor\":\"#2a3f5f\"},\"type\":\"carpet\"}],\"choropleth\":[{\"colorbar\":{\"outlinewidth\":0,\"ticks\":\"\"},\"type\":\"choropleth\"}],\"contour\":[{\"colorbar\":{\"outlinewidth\":0,\"ticks\":\"\"},\"colorscale\":[[0.0,\"#0d0887\"],[0.1111111111111111,\"#46039f\"],[0.2222222222222222,\"#7201a8\"],[0.3333333333333333,\"#9c179e\"],[0.4444444444444444,\"#bd3786\"],[0.5555555555555556,\"#d8576b\"],[0.6666666666666666,\"#ed7953\"],[0.7777777777777778,\"#fb9f3a\"],[0.8888888888888888,\"#fdca26\"],[1.0,\"#f0f921\"]],\"type\":\"contour\"}],\"contourcarpet\":[{\"colorbar\":{\"outlinewidth\":0,\"ticks\":\"\"},\"type\":\"contourcarpet\"}],\"heatmap\":[{\"colorbar\":{\"outlinewidth\":0,\"ticks\":\"\"},\"colorscale\":[[0.0,\"#0d0887\"],[0.1111111111111111,\"#46039f\"],[0.2222222222222222,\"#7201a8\"],[0.3333333333333333,\"#9c179e\"],[0.4444444444444444,\"#bd3786\"],[0.5555555555555556,\"#d8576b\"],[0.6666666666666666,\"#ed7953\"],[0.7777777777777778,\"#fb9f3a\"],[0.8888888888888888,\"#fdca26\"],[1.0,\"#f0f921\"]],\"type\":\"heatmap\"}],\"heatmapgl\":[{\"colorbar\":{\"outlinewidth\":0,\"ticks\":\"\"},\"colorscale\":[[0.0,\"#0d0887\"],[0.1111111111111111,\"#46039f\"],[0.2222222222222222,\"#7201a8\"],[0.3333333333333333,\"#9c179e\"],[0.4444444444444444,\"#bd3786\"],[0.5555555555555556,\"#d8576b\"],[0.6666666666666666,\"#ed7953\"],[0.7777777777777778,\"#fb9f3a\"],[0.8888888888888888,\"#fdca26\"],[1.0,\"#f0f921\"]],\"type\":\"heatmapgl\"}],\"histogram\":[{\"marker\":{\"pattern\":{\"fillmode\":\"overlay\",\"size\":10,\"solidity\":0.2}},\"type\":\"histogram\"}],\"histogram2d\":[{\"colorbar\":{\"outlinewidth\":0,\"ticks\":\"\"},\"colorscale\":[[0.0,\"#0d0887\"],[0.1111111111111111,\"#46039f\"],[0.2222222222222222,\"#7201a8\"],[0.3333333333333333,\"#9c179e\"],[0.4444444444444444,\"#bd3786\"],[0.5555555555555556,\"#d8576b\"],[0.6666666666666666,\"#ed7953\"],[0.7777777777777778,\"#fb9f3a\"],[0.8888888888888888,\"#fdca26\"],[1.0,\"#f0f921\"]],\"type\":\"histogram2d\"}],\"histogram2dcontour\":[{\"colorbar\":{\"outlinewidth\":0,\"ticks\":\"\"},\"colorscale\":[[0.0,\"#0d0887\"],[0.1111111111111111,\"#46039f\"],[0.2222222222222222,\"#7201a8\"],[0.3333333333333333,\"#9c179e\"],[0.4444444444444444,\"#bd3786\"],[0.5555555555555556,\"#d8576b\"],[0.6666666666666666,\"#ed7953\"],[0.7777777777777778,\"#fb9f3a\"],[0.8888888888888888,\"#fdca26\"],[1.0,\"#f0f921\"]],\"type\":\"histogram2dcontour\"}],\"mesh3d\":[{\"colorbar\":{\"outlinewidth\":0,\"ticks\":\"\"},\"type\":\"mesh3d\"}],\"parcoords\":[{\"line\":{\"colorbar\":{\"outlinewidth\":0,\"ticks\":\"\"}},\"type\":\"parcoords\"}],\"pie\":[{\"automargin\":true,\"type\":\"pie\"}],\"scatter\":[{\"marker\":{\"colorbar\":{\"outlinewidth\":0,\"ticks\":\"\"}},\"type\":\"scatter\"}],\"scatter3d\":[{\"line\":{\"colorbar\":{\"outlinewidth\":0,\"ticks\":\"\"}},\"marker\":{\"colorbar\":{\"outlinewidth\":0,\"ticks\":\"\"}},\"type\":\"scatter3d\"}],\"scattercarpet\":[{\"marker\":{\"colorbar\":{\"outlinewidth\":0,\"ticks\":\"\"}},\"type\":\"scattercarpet\"}],\"scattergeo\":[{\"marker\":{\"colorbar\":{\"outlinewidth\":0,\"ticks\":\"\"}},\"type\":\"scattergeo\"}],\"scattergl\":[{\"marker\":{\"colorbar\":{\"outlinewidth\":0,\"ticks\":\"\"}},\"type\":\"scattergl\"}],\"scattermapbox\":[{\"marker\":{\"colorbar\":{\"outlinewidth\":0,\"ticks\":\"\"}},\"type\":\"scattermapbox\"}],\"scatterpolar\":[{\"marker\":{\"colorbar\":{\"outlinewidth\":0,\"ticks\":\"\"}},\"type\":\"scatterpolar\"}],\"scatterpolargl\":[{\"marker\":{\"colorbar\":{\"outlinewidth\":0,\"ticks\":\"\"}},\"type\":\"scatterpolargl\"}],\"scatterternary\":[{\"marker\":{\"colorbar\":{\"outlinewidth\":0,\"ticks\":\"\"}},\"type\":\"scatterternary\"}],\"surface\":[{\"colorbar\":{\"outlinewidth\":0,\"ticks\":\"\"},\"colorscale\":[[0.0,\"#0d0887\"],[0.1111111111111111,\"#46039f\"],[0.2222222222222222,\"#7201a8\"],[0.3333333333333333,\"#9c179e\"],[0.4444444444444444,\"#bd3786\"],[0.5555555555555556,\"#d8576b\"],[0.6666666666666666,\"#ed7953\"],[0.7777777777777778,\"#fb9f3a\"],[0.8888888888888888,\"#fdca26\"],[1.0,\"#f0f921\"]],\"type\":\"surface\"}],\"table\":[{\"cells\":{\"fill\":{\"color\":\"#EBF0F8\"},\"line\":{\"color\":\"white\"}},\"header\":{\"fill\":{\"color\":\"#C8D4E3\"},\"line\":{\"color\":\"white\"}},\"type\":\"table\"}]},\"layout\":{\"annotationdefaults\":{\"arrowcolor\":\"#2a3f5f\",\"arrowhead\":0,\"arrowwidth\":1},\"autotypenumbers\":\"strict\",\"coloraxis\":{\"colorbar\":{\"outlinewidth\":0,\"ticks\":\"\"}},\"colorscale\":{\"diverging\":[[0,\"#8e0152\"],[0.1,\"#c51b7d\"],[0.2,\"#de77ae\"],[0.3,\"#f1b6da\"],[0.4,\"#fde0ef\"],[0.5,\"#f7f7f7\"],[0.6,\"#e6f5d0\"],[0.7,\"#b8e186\"],[0.8,\"#7fbc41\"],[0.9,\"#4d9221\"],[1,\"#276419\"]],\"sequential\":[[0.0,\"#0d0887\"],[0.1111111111111111,\"#46039f\"],[0.2222222222222222,\"#7201a8\"],[0.3333333333333333,\"#9c179e\"],[0.4444444444444444,\"#bd3786\"],[0.5555555555555556,\"#d8576b\"],[0.6666666666666666,\"#ed7953\"],[0.7777777777777778,\"#fb9f3a\"],[0.8888888888888888,\"#fdca26\"],[1.0,\"#f0f921\"]],\"sequentialminus\":[[0.0,\"#0d0887\"],[0.1111111111111111,\"#46039f\"],[0.2222222222222222,\"#7201a8\"],[0.3333333333333333,\"#9c179e\"],[0.4444444444444444,\"#bd3786\"],[0.5555555555555556,\"#d8576b\"],[0.6666666666666666,\"#ed7953\"],[0.7777777777777778,\"#fb9f3a\"],[0.8888888888888888,\"#fdca26\"],[1.0,\"#f0f921\"]]},\"colorway\":[\"#636efa\",\"#EF553B\",\"#00cc96\",\"#ab63fa\",\"#FFA15A\",\"#19d3f3\",\"#FF6692\",\"#B6E880\",\"#FF97FF\",\"#FECB52\"],\"font\":{\"color\":\"#2a3f5f\"},\"geo\":{\"bgcolor\":\"white\",\"lakecolor\":\"white\",\"landcolor\":\"#E5ECF6\",\"showlakes\":true,\"showland\":true,\"subunitcolor\":\"white\"},\"hoverlabel\":{\"align\":\"left\"},\"hovermode\":\"closest\",\"mapbox\":{\"style\":\"light\"},\"paper_bgcolor\":\"white\",\"plot_bgcolor\":\"#E5ECF6\",\"polar\":{\"angularaxis\":{\"gridcolor\":\"white\",\"linecolor\":\"white\",\"ticks\":\"\"},\"bgcolor\":\"#E5ECF6\",\"radialaxis\":{\"gridcolor\":\"white\",\"linecolor\":\"white\",\"ticks\":\"\"}},\"scene\":{\"xaxis\":{\"backgroundcolor\":\"#E5ECF6\",\"gridcolor\":\"white\",\"gridwidth\":2,\"linecolor\":\"white\",\"showbackground\":true,\"ticks\":\"\",\"zerolinecolor\":\"white\"},\"yaxis\":{\"backgroundcolor\":\"#E5ECF6\",\"gridcolor\":\"white\",\"gridwidth\":2,\"linecolor\":\"white\",\"showbackground\":true,\"ticks\":\"\",\"zerolinecolor\":\"white\"},\"zaxis\":{\"backgroundcolor\":\"#E5ECF6\",\"gridcolor\":\"white\",\"gridwidth\":2,\"linecolor\":\"white\",\"showbackground\":true,\"ticks\":\"\",\"zerolinecolor\":\"white\"}},\"shapedefaults\":{\"line\":{\"color\":\"#2a3f5f\"}},\"ternary\":{\"aaxis\":{\"gridcolor\":\"white\",\"linecolor\":\"white\",\"ticks\":\"\"},\"baxis\":{\"gridcolor\":\"white\",\"linecolor\":\"white\",\"ticks\":\"\"},\"bgcolor\":\"#E5ECF6\",\"caxis\":{\"gridcolor\":\"white\",\"linecolor\":\"white\",\"ticks\":\"\"}},\"title\":{\"x\":0.05},\"xaxis\":{\"automargin\":true,\"gridcolor\":\"white\",\"linecolor\":\"white\",\"ticks\":\"\",\"title\":{\"standoff\":15},\"zerolinecolor\":\"white\",\"zerolinewidth\":2},\"yaxis\":{\"automargin\":true,\"gridcolor\":\"white\",\"linecolor\":\"white\",\"ticks\":\"\",\"title\":{\"standoff\":15},\"zerolinecolor\":\"white\",\"zerolinewidth\":2}}},\"xaxis\":{\"anchor\":\"y\",\"domain\":[0.0,1.0],\"title\":{\"text\":\"Year (1971-2022)\"}},\"yaxis\":{\"anchor\":\"x\",\"domain\":[0.0,1.0],\"title\":{\"text\":\"Value\"}},\"legend\":{\"title\":{\"text\":\"Measure rates\"},\"tracegroupgap\":0},\"margin\":{\"t\":60},\"title\":{\"text\":\"US Measure rates\"},\"height\":700,\"width\":1100},                        {\"responsive\": true}                    ).then(function(){\n",
       "                            \n",
       "var gd = document.getElementById('836bff0d-5a8b-49f2-b103-31b6cae7111a');\n",
       "var x = new MutationObserver(function (mutations, observer) {{\n",
       "        var display = window.getComputedStyle(gd).display;\n",
       "        if (!display || display === 'none') {{\n",
       "            console.log([gd, 'removed!']);\n",
       "            Plotly.purge(gd);\n",
       "            observer.disconnect();\n",
       "        }}\n",
       "}});\n",
       "\n",
       "// Listen for the removal of the full notebook cells\n",
       "var notebookContainer = gd.closest('#notebook-container');\n",
       "if (notebookContainer) {{\n",
       "    x.observe(notebookContainer, {childList: true});\n",
       "}}\n",
       "\n",
       "// Listen for the clearing of the current output cell\n",
       "var outputEl = gd.closest('.output');\n",
       "if (outputEl) {{\n",
       "    x.observe(outputEl, {childList: true});\n",
       "}}\n",
       "\n",
       "                        })                };                });            </script>        </div>"
      ]
     },
     "metadata": {},
     "output_type": "display_data"
    }
   ],
   "source": [
    "import plotly.express as px\n",
    "fig = px.line(df, x='Year', y='Value', color='Measure', render_mode ='auto', labels= {\"Measure\" : \"Measure rates\", 'Year': 'Year (1971-2022)'})\n",
    "\n",
    "#If 'lowess’, a Locally Weighted Scatterplot Smoothing line will be drawn for each discrete-color/symbol group.\n",
    "\n",
    "# Correct position of x points\n",
    "for scatter, trendline in zip(fig.data[::2], fig.data[1::2]):\n",
    "    trendline['x'] = scatter['x'][np.logical_not(np.isnan(scatter['y']))]\n",
    "\n",
    "fig.update_traces(textposition='top center')\n",
    "\n",
    "fig.update_layout(\n",
    "    height=700,\n",
    "    width= 1100,\n",
    "    title_text='US Measure rates')\n",
    "fig.show()"
   ]
  },
  {
   "cell_type": "code",
   "execution_count": 74,
   "id": "b4dfea57",
   "metadata": {},
   "outputs": [],
   "source": [
    "data = pd.read_csv('/Users/nehakardam/Documents/UWclasses /CSE Data Visualization/A3/Data/Inflation_data_cleaned_formatted_modified.csv')"
   ]
  },
  {
   "cell_type": "code",
   "execution_count": 76,
   "id": "4e4a26ef",
   "metadata": {},
   "outputs": [
    {
     "data": {
      "application/vnd.plotly.v1+json": {
       "config": {
        "plotlyServerURL": "https://plot.ly"
       },
       "data": [
        {
         "name": "Inflation",
         "type": "scatter",
         "visible": true,
         "x": [
          1977,
          1978,
          1979,
          1980,
          1981,
          1982,
          1983,
          1984,
          1985,
          1986,
          1987,
          1988,
          1989,
          1990,
          1991,
          1992,
          1993,
          1994,
          1995,
          1996,
          1997,
          1998,
          1999,
          2000,
          2001,
          2002,
          2003,
          2004,
          2005,
          2006,
          2007,
          2008,
          2009,
          2010,
          2011,
          2012,
          2013,
          2014,
          2015,
          2016,
          2017,
          2018,
          2019,
          2020,
          2021
         ],
         "y": [
          6.501683995,
          7.630963839,
          11.25447113,
          13.54920197,
          10.33471534,
          6.131427,
          3.212435233,
          4.300535475,
          3.545644152,
          1.898047722,
          3.664563218,
          4.077741107,
          4.82700303,
          5.39795644,
          4.234963965,
          3.028819678,
          2.951656966,
          2.607441592,
          2.805419689,
          2.9312042,
          2.337689937,
          1.552279099,
          2.188027197,
          3.376857271,
          2.826171119,
          1.586031627,
          2.270094973,
          2.677236693,
          3.392746845,
          3.225944101,
          2.852672482,
          3.839100297,
          -0.355546266,
          1.640043442,
          3.156841569,
          2.069337265,
          1.464832656,
          1.622222977,
          0.118627136,
          1.261583206,
          2.130110004,
          2.442583297,
          1.812210075,
          1.233584396,
          4.697858864
         ]
        },
        {
         "name": "Unemployment Rate",
         "type": "scatter",
         "visible": true,
         "x": [
          1977,
          1978,
          1979,
          1980,
          1981,
          1982,
          1983,
          1984,
          1985,
          1986,
          1987,
          1988,
          1989,
          1990,
          1991,
          1992,
          1993,
          1994,
          1995,
          1996,
          1997,
          1998,
          1999,
          2000,
          2001,
          2002,
          2003,
          2004,
          2005,
          2006,
          2007,
          2008,
          2009,
          2010,
          2011,
          2012,
          2013,
          2014,
          2015,
          2016,
          2017,
          2018,
          2019,
          2020,
          2021
         ],
         "y": [
          7.05,
          6.066666667,
          5.85,
          7.175,
          7.616666667,
          9.708333333,
          9.6,
          7.508333333,
          7.191666667,
          7,
          6.175,
          5.491666667,
          5.258333333,
          5.616666667,
          6.85,
          7.491666667,
          6.908333333,
          6.1,
          5.591666667,
          5.408333333,
          4.941666667,
          4.5,
          4.216666667,
          3.966666667,
          4.741666667,
          5.783333333,
          5.991666667,
          5.541666667,
          5.083333333,
          4.608333333,
          4.616666667,
          5.8,
          9.283333333,
          9.608333333,
          8.933333333,
          8.075,
          7.358333333,
          6.158333333,
          5.275,
          4.875,
          4.358333333,
          3.891666667,
          3.675,
          8.091666667,
          5.358333333
         ]
        },
        {
         "name": "Wage Change Rate",
         "type": "scatter",
         "visible": true,
         "x": [
          1977,
          1978,
          1979,
          1980,
          1981,
          1982,
          1983,
          1984,
          1985,
          1986,
          1987,
          1988,
          1989,
          1990,
          1991,
          1992,
          1993,
          1994,
          1995,
          1996,
          1997,
          1998,
          1999,
          2000,
          2001,
          2002,
          2003,
          2004,
          2005,
          2006,
          2007,
          2008,
          2009,
          2010,
          2011,
          2012,
          2013,
          2014,
          2015,
          2016,
          2017,
          2018,
          2019,
          2020,
          2021
         ],
         "y": [
          10.49171,
          12.71595,
          11.84585,
          9.58324,
          10.04423,
          5.03791,
          5.66923,
          9.97953,
          7.4592,
          6.04149,
          7.32327,
          8.13361,
          5.8714,
          6.12295,
          2.6728,
          5.3681,
          3.83712,
          5.10688,
          5.60516,
          5.80624,
          7.19946,
          7.86143,
          6.60749,
          8.23329,
          2.66704,
          0.85224,
          2.8507,
          5.50299,
          4.98722,
          6.4195,
          5.60766,
          2.15291,
          -4.36148,
          1.97482,
          3.98064,
          4.55667,
          2.68303,
          5.09301,
          5.12507,
          2.94888,
          4.73897,
          5.02476,
          4.75272,
          1.29305,
          9.35002
         ]
        },
        {
         "name": "Mortage",
         "type": "scatter",
         "visible": true,
         "x": [
          1977,
          1978,
          1979,
          1980,
          1981,
          1982,
          1983,
          1984,
          1985,
          1986,
          1987,
          1988,
          1989,
          1990,
          1991,
          1992,
          1993,
          1994,
          1995,
          1996,
          1997,
          1998,
          1999,
          2000,
          2001,
          2002,
          2003,
          2004,
          2005,
          2006,
          2007,
          2008,
          2009,
          2010,
          2011,
          2012,
          2013,
          2014,
          2015,
          2016,
          2017,
          2018,
          2019,
          2020,
          2021
         ],
         "y": [
          8.84,
          9.63,
          11.19,
          13.74,
          16.64,
          16.04,
          13.24,
          13.88,
          12.46,
          10.19,
          10.21,
          10.34,
          10.32,
          10.13,
          9.25,
          8.39,
          7.31,
          8.38,
          7.93,
          7.81,
          7.6,
          6.94,
          7.44,
          8.05,
          6.97,
          6.54,
          5.83,
          5.84,
          5.87,
          6.41,
          6.34,
          6.01,
          5.04,
          4.69,
          4.45,
          3.66,
          3.98,
          4.17,
          3.85,
          3.65,
          3.99,
          4.54,
          3.94,
          3.11,
          2.96
         ]
        },
        {
         "name": "WTI Crude Oil ",
         "type": "scatter",
         "visible": true,
         "x": [
          1977,
          1978,
          1979,
          1980,
          1981,
          1982,
          1983,
          1984,
          1985,
          1986,
          1987,
          1988,
          1989,
          1990,
          1991,
          1992,
          1993,
          1994,
          1995,
          1996,
          1997,
          1998,
          1999,
          2000,
          2001,
          2002,
          2003,
          2004,
          2005,
          2006,
          2007,
          2008,
          2009,
          2010,
          2011,
          2012,
          2013,
          2014,
          2015,
          2016,
          2017,
          2018,
          2019,
          2020,
          2021
         ],
         "y": [
          13.05523,
          3.87642,
          50.86981,
          66.82165,
          -1.89521,
          -8.26591,
          -9.63506,
          -3.68317,
          -4.44997,
          -46.23339,
          27.40636,
          -16.71197,
          22.75279,
          25.02233,
          -12.29607,
          -4.28203,
          -10.22911,
          -6.89306,
          7.22494,
          20.2234,
          -7.019,
          -30.1509,
          33.80053,
          57.38031,
          -14.43699,
          0.66862,
          19.32177,
          33.07108,
          36.26473,
          17.06784,
          9.46876,
          37.59544,
          -38.03868,
          28.74568,
          19.70245,
          -0.92119,
          3.96493,
          -4.77609,
          -47.79198,
          -11.38705,
          17.93985,
          27.61992,
          -12.2488,
          -31.1607,
          73.31591
         ]
        }
       ],
       "layout": {
        "autosize": false,
        "height": 800,
        "template": {
         "data": {
          "bar": [
           {
            "error_x": {
             "color": "#2a3f5f"
            },
            "error_y": {
             "color": "#2a3f5f"
            },
            "marker": {
             "line": {
              "color": "#E5ECF6",
              "width": 0.5
             },
             "pattern": {
              "fillmode": "overlay",
              "size": 10,
              "solidity": 0.2
             }
            },
            "type": "bar"
           }
          ],
          "barpolar": [
           {
            "marker": {
             "line": {
              "color": "#E5ECF6",
              "width": 0.5
             },
             "pattern": {
              "fillmode": "overlay",
              "size": 10,
              "solidity": 0.2
             }
            },
            "type": "barpolar"
           }
          ],
          "carpet": [
           {
            "aaxis": {
             "endlinecolor": "#2a3f5f",
             "gridcolor": "white",
             "linecolor": "white",
             "minorgridcolor": "white",
             "startlinecolor": "#2a3f5f"
            },
            "baxis": {
             "endlinecolor": "#2a3f5f",
             "gridcolor": "white",
             "linecolor": "white",
             "minorgridcolor": "white",
             "startlinecolor": "#2a3f5f"
            },
            "type": "carpet"
           }
          ],
          "choropleth": [
           {
            "colorbar": {
             "outlinewidth": 0,
             "ticks": ""
            },
            "type": "choropleth"
           }
          ],
          "contour": [
           {
            "colorbar": {
             "outlinewidth": 0,
             "ticks": ""
            },
            "colorscale": [
             [
              0,
              "#0d0887"
             ],
             [
              0.1111111111111111,
              "#46039f"
             ],
             [
              0.2222222222222222,
              "#7201a8"
             ],
             [
              0.3333333333333333,
              "#9c179e"
             ],
             [
              0.4444444444444444,
              "#bd3786"
             ],
             [
              0.5555555555555556,
              "#d8576b"
             ],
             [
              0.6666666666666666,
              "#ed7953"
             ],
             [
              0.7777777777777778,
              "#fb9f3a"
             ],
             [
              0.8888888888888888,
              "#fdca26"
             ],
             [
              1,
              "#f0f921"
             ]
            ],
            "type": "contour"
           }
          ],
          "contourcarpet": [
           {
            "colorbar": {
             "outlinewidth": 0,
             "ticks": ""
            },
            "type": "contourcarpet"
           }
          ],
          "heatmap": [
           {
            "colorbar": {
             "outlinewidth": 0,
             "ticks": ""
            },
            "colorscale": [
             [
              0,
              "#0d0887"
             ],
             [
              0.1111111111111111,
              "#46039f"
             ],
             [
              0.2222222222222222,
              "#7201a8"
             ],
             [
              0.3333333333333333,
              "#9c179e"
             ],
             [
              0.4444444444444444,
              "#bd3786"
             ],
             [
              0.5555555555555556,
              "#d8576b"
             ],
             [
              0.6666666666666666,
              "#ed7953"
             ],
             [
              0.7777777777777778,
              "#fb9f3a"
             ],
             [
              0.8888888888888888,
              "#fdca26"
             ],
             [
              1,
              "#f0f921"
             ]
            ],
            "type": "heatmap"
           }
          ],
          "heatmapgl": [
           {
            "colorbar": {
             "outlinewidth": 0,
             "ticks": ""
            },
            "colorscale": [
             [
              0,
              "#0d0887"
             ],
             [
              0.1111111111111111,
              "#46039f"
             ],
             [
              0.2222222222222222,
              "#7201a8"
             ],
             [
              0.3333333333333333,
              "#9c179e"
             ],
             [
              0.4444444444444444,
              "#bd3786"
             ],
             [
              0.5555555555555556,
              "#d8576b"
             ],
             [
              0.6666666666666666,
              "#ed7953"
             ],
             [
              0.7777777777777778,
              "#fb9f3a"
             ],
             [
              0.8888888888888888,
              "#fdca26"
             ],
             [
              1,
              "#f0f921"
             ]
            ],
            "type": "heatmapgl"
           }
          ],
          "histogram": [
           {
            "marker": {
             "pattern": {
              "fillmode": "overlay",
              "size": 10,
              "solidity": 0.2
             }
            },
            "type": "histogram"
           }
          ],
          "histogram2d": [
           {
            "colorbar": {
             "outlinewidth": 0,
             "ticks": ""
            },
            "colorscale": [
             [
              0,
              "#0d0887"
             ],
             [
              0.1111111111111111,
              "#46039f"
             ],
             [
              0.2222222222222222,
              "#7201a8"
             ],
             [
              0.3333333333333333,
              "#9c179e"
             ],
             [
              0.4444444444444444,
              "#bd3786"
             ],
             [
              0.5555555555555556,
              "#d8576b"
             ],
             [
              0.6666666666666666,
              "#ed7953"
             ],
             [
              0.7777777777777778,
              "#fb9f3a"
             ],
             [
              0.8888888888888888,
              "#fdca26"
             ],
             [
              1,
              "#f0f921"
             ]
            ],
            "type": "histogram2d"
           }
          ],
          "histogram2dcontour": [
           {
            "colorbar": {
             "outlinewidth": 0,
             "ticks": ""
            },
            "colorscale": [
             [
              0,
              "#0d0887"
             ],
             [
              0.1111111111111111,
              "#46039f"
             ],
             [
              0.2222222222222222,
              "#7201a8"
             ],
             [
              0.3333333333333333,
              "#9c179e"
             ],
             [
              0.4444444444444444,
              "#bd3786"
             ],
             [
              0.5555555555555556,
              "#d8576b"
             ],
             [
              0.6666666666666666,
              "#ed7953"
             ],
             [
              0.7777777777777778,
              "#fb9f3a"
             ],
             [
              0.8888888888888888,
              "#fdca26"
             ],
             [
              1,
              "#f0f921"
             ]
            ],
            "type": "histogram2dcontour"
           }
          ],
          "mesh3d": [
           {
            "colorbar": {
             "outlinewidth": 0,
             "ticks": ""
            },
            "type": "mesh3d"
           }
          ],
          "parcoords": [
           {
            "line": {
             "colorbar": {
              "outlinewidth": 0,
              "ticks": ""
             }
            },
            "type": "parcoords"
           }
          ],
          "pie": [
           {
            "automargin": true,
            "type": "pie"
           }
          ],
          "scatter": [
           {
            "marker": {
             "colorbar": {
              "outlinewidth": 0,
              "ticks": ""
             }
            },
            "type": "scatter"
           }
          ],
          "scatter3d": [
           {
            "line": {
             "colorbar": {
              "outlinewidth": 0,
              "ticks": ""
             }
            },
            "marker": {
             "colorbar": {
              "outlinewidth": 0,
              "ticks": ""
             }
            },
            "type": "scatter3d"
           }
          ],
          "scattercarpet": [
           {
            "marker": {
             "colorbar": {
              "outlinewidth": 0,
              "ticks": ""
             }
            },
            "type": "scattercarpet"
           }
          ],
          "scattergeo": [
           {
            "marker": {
             "colorbar": {
              "outlinewidth": 0,
              "ticks": ""
             }
            },
            "type": "scattergeo"
           }
          ],
          "scattergl": [
           {
            "marker": {
             "colorbar": {
              "outlinewidth": 0,
              "ticks": ""
             }
            },
            "type": "scattergl"
           }
          ],
          "scattermapbox": [
           {
            "marker": {
             "colorbar": {
              "outlinewidth": 0,
              "ticks": ""
             }
            },
            "type": "scattermapbox"
           }
          ],
          "scatterpolar": [
           {
            "marker": {
             "colorbar": {
              "outlinewidth": 0,
              "ticks": ""
             }
            },
            "type": "scatterpolar"
           }
          ],
          "scatterpolargl": [
           {
            "marker": {
             "colorbar": {
              "outlinewidth": 0,
              "ticks": ""
             }
            },
            "type": "scatterpolargl"
           }
          ],
          "scatterternary": [
           {
            "marker": {
             "colorbar": {
              "outlinewidth": 0,
              "ticks": ""
             }
            },
            "type": "scatterternary"
           }
          ],
          "surface": [
           {
            "colorbar": {
             "outlinewidth": 0,
             "ticks": ""
            },
            "colorscale": [
             [
              0,
              "#0d0887"
             ],
             [
              0.1111111111111111,
              "#46039f"
             ],
             [
              0.2222222222222222,
              "#7201a8"
             ],
             [
              0.3333333333333333,
              "#9c179e"
             ],
             [
              0.4444444444444444,
              "#bd3786"
             ],
             [
              0.5555555555555556,
              "#d8576b"
             ],
             [
              0.6666666666666666,
              "#ed7953"
             ],
             [
              0.7777777777777778,
              "#fb9f3a"
             ],
             [
              0.8888888888888888,
              "#fdca26"
             ],
             [
              1,
              "#f0f921"
             ]
            ],
            "type": "surface"
           }
          ],
          "table": [
           {
            "cells": {
             "fill": {
              "color": "#EBF0F8"
             },
             "line": {
              "color": "white"
             }
            },
            "header": {
             "fill": {
              "color": "#C8D4E3"
             },
             "line": {
              "color": "white"
             }
            },
            "type": "table"
           }
          ]
         },
         "layout": {
          "annotationdefaults": {
           "arrowcolor": "#2a3f5f",
           "arrowhead": 0,
           "arrowwidth": 1
          },
          "autotypenumbers": "strict",
          "coloraxis": {
           "colorbar": {
            "outlinewidth": 0,
            "ticks": ""
           }
          },
          "colorscale": {
           "diverging": [
            [
             0,
             "#8e0152"
            ],
            [
             0.1,
             "#c51b7d"
            ],
            [
             0.2,
             "#de77ae"
            ],
            [
             0.3,
             "#f1b6da"
            ],
            [
             0.4,
             "#fde0ef"
            ],
            [
             0.5,
             "#f7f7f7"
            ],
            [
             0.6,
             "#e6f5d0"
            ],
            [
             0.7,
             "#b8e186"
            ],
            [
             0.8,
             "#7fbc41"
            ],
            [
             0.9,
             "#4d9221"
            ],
            [
             1,
             "#276419"
            ]
           ],
           "sequential": [
            [
             0,
             "#0d0887"
            ],
            [
             0.1111111111111111,
             "#46039f"
            ],
            [
             0.2222222222222222,
             "#7201a8"
            ],
            [
             0.3333333333333333,
             "#9c179e"
            ],
            [
             0.4444444444444444,
             "#bd3786"
            ],
            [
             0.5555555555555556,
             "#d8576b"
            ],
            [
             0.6666666666666666,
             "#ed7953"
            ],
            [
             0.7777777777777778,
             "#fb9f3a"
            ],
            [
             0.8888888888888888,
             "#fdca26"
            ],
            [
             1,
             "#f0f921"
            ]
           ],
           "sequentialminus": [
            [
             0,
             "#0d0887"
            ],
            [
             0.1111111111111111,
             "#46039f"
            ],
            [
             0.2222222222222222,
             "#7201a8"
            ],
            [
             0.3333333333333333,
             "#9c179e"
            ],
            [
             0.4444444444444444,
             "#bd3786"
            ],
            [
             0.5555555555555556,
             "#d8576b"
            ],
            [
             0.6666666666666666,
             "#ed7953"
            ],
            [
             0.7777777777777778,
             "#fb9f3a"
            ],
            [
             0.8888888888888888,
             "#fdca26"
            ],
            [
             1,
             "#f0f921"
            ]
           ]
          },
          "colorway": [
           "#636efa",
           "#EF553B",
           "#00cc96",
           "#ab63fa",
           "#FFA15A",
           "#19d3f3",
           "#FF6692",
           "#B6E880",
           "#FF97FF",
           "#FECB52"
          ],
          "font": {
           "color": "#2a3f5f"
          },
          "geo": {
           "bgcolor": "white",
           "lakecolor": "white",
           "landcolor": "#E5ECF6",
           "showlakes": true,
           "showland": true,
           "subunitcolor": "white"
          },
          "hoverlabel": {
           "align": "left"
          },
          "hovermode": "closest",
          "mapbox": {
           "style": "light"
          },
          "paper_bgcolor": "white",
          "plot_bgcolor": "#E5ECF6",
          "polar": {
           "angularaxis": {
            "gridcolor": "white",
            "linecolor": "white",
            "ticks": ""
           },
           "bgcolor": "#E5ECF6",
           "radialaxis": {
            "gridcolor": "white",
            "linecolor": "white",
            "ticks": ""
           }
          },
          "scene": {
           "xaxis": {
            "backgroundcolor": "#E5ECF6",
            "gridcolor": "white",
            "gridwidth": 2,
            "linecolor": "white",
            "showbackground": true,
            "ticks": "",
            "zerolinecolor": "white"
           },
           "yaxis": {
            "backgroundcolor": "#E5ECF6",
            "gridcolor": "white",
            "gridwidth": 2,
            "linecolor": "white",
            "showbackground": true,
            "ticks": "",
            "zerolinecolor": "white"
           },
           "zaxis": {
            "backgroundcolor": "#E5ECF6",
            "gridcolor": "white",
            "gridwidth": 2,
            "linecolor": "white",
            "showbackground": true,
            "ticks": "",
            "zerolinecolor": "white"
           }
          },
          "shapedefaults": {
           "line": {
            "color": "#2a3f5f"
           }
          },
          "ternary": {
           "aaxis": {
            "gridcolor": "white",
            "linecolor": "white",
            "ticks": ""
           },
           "baxis": {
            "gridcolor": "white",
            "linecolor": "white",
            "ticks": ""
           },
           "bgcolor": "#E5ECF6",
           "caxis": {
            "gridcolor": "white",
            "linecolor": "white",
            "ticks": ""
           }
          },
          "title": {
           "x": 0.05
          },
          "xaxis": {
           "automargin": true,
           "gridcolor": "white",
           "linecolor": "white",
           "ticks": "",
           "title": {
            "standoff": 15
           },
           "zerolinecolor": "white",
           "zerolinewidth": 2
          },
          "yaxis": {
           "automargin": true,
           "gridcolor": "white",
           "linecolor": "white",
           "ticks": "",
           "title": {
            "standoff": 15
           },
           "zerolinecolor": "white",
           "zerolinewidth": 2
          }
         }
        },
        "updatemenus": [
         {
          "active": 0,
          "buttons": [
           {
            "args": [
             {
              "visible": [
               true,
               false,
               false,
               false,
               false
              ]
             }
            ],
            "label": "Inflation",
            "method": "update"
           },
           {
            "args": [
             {
              "visible": [
               false,
               true,
               false,
               false,
               false
              ]
             }
            ],
            "label": "Unemployment Rate",
            "method": "update"
           },
           {
            "args": [
             {
              "visible": [
               false,
               false,
               true,
               false,
               false
              ]
             }
            ],
            "label": "Wage Change Rate",
            "method": "update"
           },
           {
            "args": [
             {
              "visible": [
               false,
               false,
               false,
               true,
               false
              ]
             }
            ],
            "label": "Mortage",
            "method": "update"
           },
           {
            "args": [
             {
              "visible": [
               false,
               false,
               false,
               false,
               true
              ]
             }
            ],
            "label": "WTI Crude Oil ",
            "method": "update"
           }
          ],
          "type": "dropdown",
          "x": 0,
          "xanchor": "left",
          "y": 1.1,
          "yanchor": "bottom"
         }
        ],
        "width": 1100
       }
      },
      "text/html": [
       "<div>                            <div id=\"76e68aa2-9fdb-480e-a3ed-9091f7d96615\" class=\"plotly-graph-div\" style=\"height:800px; width:1100px;\"></div>            <script type=\"text/javascript\">                require([\"plotly\"], function(Plotly) {                    window.PLOTLYENV=window.PLOTLYENV || {};                                    if (document.getElementById(\"76e68aa2-9fdb-480e-a3ed-9091f7d96615\")) {                    Plotly.newPlot(                        \"76e68aa2-9fdb-480e-a3ed-9091f7d96615\",                        [{\"name\":\"Inflation\",\"visible\":true,\"x\":[1977,1978,1979,1980,1981,1982,1983,1984,1985,1986,1987,1988,1989,1990,1991,1992,1993,1994,1995,1996,1997,1998,1999,2000,2001,2002,2003,2004,2005,2006,2007,2008,2009,2010,2011,2012,2013,2014,2015,2016,2017,2018,2019,2020,2021],\"y\":[6.501683995,7.630963839,11.25447113,13.54920197,10.33471534,6.131427,3.212435233,4.300535475,3.545644152,1.898047722,3.664563218,4.077741107,4.82700303,5.39795644,4.234963965,3.028819678,2.951656966,2.607441592,2.805419689,2.9312042,2.337689937,1.552279099,2.188027197,3.376857271,2.826171119,1.586031627,2.270094973,2.677236693,3.392746845,3.225944101,2.852672482,3.839100297,-0.355546266,1.640043442,3.156841569,2.069337265,1.464832656,1.622222977,0.118627136,1.261583206,2.130110004,2.442583297,1.812210075,1.233584396,4.697858864],\"type\":\"scatter\"},{\"name\":\"Unemployment Rate\",\"visible\":true,\"x\":[1977,1978,1979,1980,1981,1982,1983,1984,1985,1986,1987,1988,1989,1990,1991,1992,1993,1994,1995,1996,1997,1998,1999,2000,2001,2002,2003,2004,2005,2006,2007,2008,2009,2010,2011,2012,2013,2014,2015,2016,2017,2018,2019,2020,2021],\"y\":[7.05,6.066666667,5.85,7.175,7.616666667,9.708333333,9.6,7.508333333,7.191666667,7.0,6.175,5.491666667,5.258333333,5.616666667,6.85,7.491666667,6.908333333,6.1,5.591666667,5.408333333,4.941666667,4.5,4.216666667,3.966666667,4.741666667,5.783333333,5.991666667,5.541666667,5.083333333,4.608333333,4.616666667,5.8,9.283333333,9.608333333,8.933333333,8.075,7.358333333,6.158333333,5.275,4.875,4.358333333,3.891666667,3.675,8.091666667,5.358333333],\"type\":\"scatter\"},{\"name\":\"Wage Change Rate\",\"visible\":true,\"x\":[1977,1978,1979,1980,1981,1982,1983,1984,1985,1986,1987,1988,1989,1990,1991,1992,1993,1994,1995,1996,1997,1998,1999,2000,2001,2002,2003,2004,2005,2006,2007,2008,2009,2010,2011,2012,2013,2014,2015,2016,2017,2018,2019,2020,2021],\"y\":[10.49171,12.71595,11.84585,9.58324,10.04423,5.03791,5.66923,9.97953,7.4592,6.04149,7.32327,8.13361,5.8714,6.12295,2.6728,5.3681,3.83712,5.10688,5.60516,5.80624,7.19946,7.86143,6.60749,8.23329,2.66704,0.85224,2.8507,5.50299,4.98722,6.4195,5.60766,2.15291,-4.36148,1.97482,3.98064,4.55667,2.68303,5.09301,5.12507,2.94888,4.73897,5.02476,4.75272,1.29305,9.35002],\"type\":\"scatter\"},{\"name\":\"Mortage\",\"visible\":true,\"x\":[1977,1978,1979,1980,1981,1982,1983,1984,1985,1986,1987,1988,1989,1990,1991,1992,1993,1994,1995,1996,1997,1998,1999,2000,2001,2002,2003,2004,2005,2006,2007,2008,2009,2010,2011,2012,2013,2014,2015,2016,2017,2018,2019,2020,2021],\"y\":[8.84,9.63,11.19,13.74,16.64,16.04,13.24,13.88,12.46,10.19,10.21,10.34,10.32,10.13,9.25,8.39,7.31,8.38,7.93,7.81,7.6,6.94,7.44,8.05,6.97,6.54,5.83,5.84,5.87,6.41,6.34,6.01,5.04,4.69,4.45,3.66,3.98,4.17,3.85,3.65,3.99,4.54,3.94,3.11,2.96],\"type\":\"scatter\"},{\"name\":\"WTI Crude Oil \",\"visible\":true,\"x\":[1977,1978,1979,1980,1981,1982,1983,1984,1985,1986,1987,1988,1989,1990,1991,1992,1993,1994,1995,1996,1997,1998,1999,2000,2001,2002,2003,2004,2005,2006,2007,2008,2009,2010,2011,2012,2013,2014,2015,2016,2017,2018,2019,2020,2021],\"y\":[13.05523,3.87642,50.86981,66.82165,-1.89521,-8.26591,-9.63506,-3.68317,-4.44997,-46.23339,27.40636,-16.71197,22.75279,25.02233,-12.29607,-4.28203,-10.22911,-6.89306,7.22494,20.2234,-7.019,-30.1509,33.80053,57.38031,-14.43699,0.66862,19.32177,33.07108,36.26473,17.06784,9.46876,37.59544,-38.03868,28.74568,19.70245,-0.92119,3.96493,-4.77609,-47.79198,-11.38705,17.93985,27.61992,-12.2488,-31.1607,73.31591],\"type\":\"scatter\"}],                        {\"template\":{\"data\":{\"bar\":[{\"error_x\":{\"color\":\"#2a3f5f\"},\"error_y\":{\"color\":\"#2a3f5f\"},\"marker\":{\"line\":{\"color\":\"#E5ECF6\",\"width\":0.5},\"pattern\":{\"fillmode\":\"overlay\",\"size\":10,\"solidity\":0.2}},\"type\":\"bar\"}],\"barpolar\":[{\"marker\":{\"line\":{\"color\":\"#E5ECF6\",\"width\":0.5},\"pattern\":{\"fillmode\":\"overlay\",\"size\":10,\"solidity\":0.2}},\"type\":\"barpolar\"}],\"carpet\":[{\"aaxis\":{\"endlinecolor\":\"#2a3f5f\",\"gridcolor\":\"white\",\"linecolor\":\"white\",\"minorgridcolor\":\"white\",\"startlinecolor\":\"#2a3f5f\"},\"baxis\":{\"endlinecolor\":\"#2a3f5f\",\"gridcolor\":\"white\",\"linecolor\":\"white\",\"minorgridcolor\":\"white\",\"startlinecolor\":\"#2a3f5f\"},\"type\":\"carpet\"}],\"choropleth\":[{\"colorbar\":{\"outlinewidth\":0,\"ticks\":\"\"},\"type\":\"choropleth\"}],\"contour\":[{\"colorbar\":{\"outlinewidth\":0,\"ticks\":\"\"},\"colorscale\":[[0.0,\"#0d0887\"],[0.1111111111111111,\"#46039f\"],[0.2222222222222222,\"#7201a8\"],[0.3333333333333333,\"#9c179e\"],[0.4444444444444444,\"#bd3786\"],[0.5555555555555556,\"#d8576b\"],[0.6666666666666666,\"#ed7953\"],[0.7777777777777778,\"#fb9f3a\"],[0.8888888888888888,\"#fdca26\"],[1.0,\"#f0f921\"]],\"type\":\"contour\"}],\"contourcarpet\":[{\"colorbar\":{\"outlinewidth\":0,\"ticks\":\"\"},\"type\":\"contourcarpet\"}],\"heatmap\":[{\"colorbar\":{\"outlinewidth\":0,\"ticks\":\"\"},\"colorscale\":[[0.0,\"#0d0887\"],[0.1111111111111111,\"#46039f\"],[0.2222222222222222,\"#7201a8\"],[0.3333333333333333,\"#9c179e\"],[0.4444444444444444,\"#bd3786\"],[0.5555555555555556,\"#d8576b\"],[0.6666666666666666,\"#ed7953\"],[0.7777777777777778,\"#fb9f3a\"],[0.8888888888888888,\"#fdca26\"],[1.0,\"#f0f921\"]],\"type\":\"heatmap\"}],\"heatmapgl\":[{\"colorbar\":{\"outlinewidth\":0,\"ticks\":\"\"},\"colorscale\":[[0.0,\"#0d0887\"],[0.1111111111111111,\"#46039f\"],[0.2222222222222222,\"#7201a8\"],[0.3333333333333333,\"#9c179e\"],[0.4444444444444444,\"#bd3786\"],[0.5555555555555556,\"#d8576b\"],[0.6666666666666666,\"#ed7953\"],[0.7777777777777778,\"#fb9f3a\"],[0.8888888888888888,\"#fdca26\"],[1.0,\"#f0f921\"]],\"type\":\"heatmapgl\"}],\"histogram\":[{\"marker\":{\"pattern\":{\"fillmode\":\"overlay\",\"size\":10,\"solidity\":0.2}},\"type\":\"histogram\"}],\"histogram2d\":[{\"colorbar\":{\"outlinewidth\":0,\"ticks\":\"\"},\"colorscale\":[[0.0,\"#0d0887\"],[0.1111111111111111,\"#46039f\"],[0.2222222222222222,\"#7201a8\"],[0.3333333333333333,\"#9c179e\"],[0.4444444444444444,\"#bd3786\"],[0.5555555555555556,\"#d8576b\"],[0.6666666666666666,\"#ed7953\"],[0.7777777777777778,\"#fb9f3a\"],[0.8888888888888888,\"#fdca26\"],[1.0,\"#f0f921\"]],\"type\":\"histogram2d\"}],\"histogram2dcontour\":[{\"colorbar\":{\"outlinewidth\":0,\"ticks\":\"\"},\"colorscale\":[[0.0,\"#0d0887\"],[0.1111111111111111,\"#46039f\"],[0.2222222222222222,\"#7201a8\"],[0.3333333333333333,\"#9c179e\"],[0.4444444444444444,\"#bd3786\"],[0.5555555555555556,\"#d8576b\"],[0.6666666666666666,\"#ed7953\"],[0.7777777777777778,\"#fb9f3a\"],[0.8888888888888888,\"#fdca26\"],[1.0,\"#f0f921\"]],\"type\":\"histogram2dcontour\"}],\"mesh3d\":[{\"colorbar\":{\"outlinewidth\":0,\"ticks\":\"\"},\"type\":\"mesh3d\"}],\"parcoords\":[{\"line\":{\"colorbar\":{\"outlinewidth\":0,\"ticks\":\"\"}},\"type\":\"parcoords\"}],\"pie\":[{\"automargin\":true,\"type\":\"pie\"}],\"scatter\":[{\"marker\":{\"colorbar\":{\"outlinewidth\":0,\"ticks\":\"\"}},\"type\":\"scatter\"}],\"scatter3d\":[{\"line\":{\"colorbar\":{\"outlinewidth\":0,\"ticks\":\"\"}},\"marker\":{\"colorbar\":{\"outlinewidth\":0,\"ticks\":\"\"}},\"type\":\"scatter3d\"}],\"scattercarpet\":[{\"marker\":{\"colorbar\":{\"outlinewidth\":0,\"ticks\":\"\"}},\"type\":\"scattercarpet\"}],\"scattergeo\":[{\"marker\":{\"colorbar\":{\"outlinewidth\":0,\"ticks\":\"\"}},\"type\":\"scattergeo\"}],\"scattergl\":[{\"marker\":{\"colorbar\":{\"outlinewidth\":0,\"ticks\":\"\"}},\"type\":\"scattergl\"}],\"scattermapbox\":[{\"marker\":{\"colorbar\":{\"outlinewidth\":0,\"ticks\":\"\"}},\"type\":\"scattermapbox\"}],\"scatterpolar\":[{\"marker\":{\"colorbar\":{\"outlinewidth\":0,\"ticks\":\"\"}},\"type\":\"scatterpolar\"}],\"scatterpolargl\":[{\"marker\":{\"colorbar\":{\"outlinewidth\":0,\"ticks\":\"\"}},\"type\":\"scatterpolargl\"}],\"scatterternary\":[{\"marker\":{\"colorbar\":{\"outlinewidth\":0,\"ticks\":\"\"}},\"type\":\"scatterternary\"}],\"surface\":[{\"colorbar\":{\"outlinewidth\":0,\"ticks\":\"\"},\"colorscale\":[[0.0,\"#0d0887\"],[0.1111111111111111,\"#46039f\"],[0.2222222222222222,\"#7201a8\"],[0.3333333333333333,\"#9c179e\"],[0.4444444444444444,\"#bd3786\"],[0.5555555555555556,\"#d8576b\"],[0.6666666666666666,\"#ed7953\"],[0.7777777777777778,\"#fb9f3a\"],[0.8888888888888888,\"#fdca26\"],[1.0,\"#f0f921\"]],\"type\":\"surface\"}],\"table\":[{\"cells\":{\"fill\":{\"color\":\"#EBF0F8\"},\"line\":{\"color\":\"white\"}},\"header\":{\"fill\":{\"color\":\"#C8D4E3\"},\"line\":{\"color\":\"white\"}},\"type\":\"table\"}]},\"layout\":{\"annotationdefaults\":{\"arrowcolor\":\"#2a3f5f\",\"arrowhead\":0,\"arrowwidth\":1},\"autotypenumbers\":\"strict\",\"coloraxis\":{\"colorbar\":{\"outlinewidth\":0,\"ticks\":\"\"}},\"colorscale\":{\"diverging\":[[0,\"#8e0152\"],[0.1,\"#c51b7d\"],[0.2,\"#de77ae\"],[0.3,\"#f1b6da\"],[0.4,\"#fde0ef\"],[0.5,\"#f7f7f7\"],[0.6,\"#e6f5d0\"],[0.7,\"#b8e186\"],[0.8,\"#7fbc41\"],[0.9,\"#4d9221\"],[1,\"#276419\"]],\"sequential\":[[0.0,\"#0d0887\"],[0.1111111111111111,\"#46039f\"],[0.2222222222222222,\"#7201a8\"],[0.3333333333333333,\"#9c179e\"],[0.4444444444444444,\"#bd3786\"],[0.5555555555555556,\"#d8576b\"],[0.6666666666666666,\"#ed7953\"],[0.7777777777777778,\"#fb9f3a\"],[0.8888888888888888,\"#fdca26\"],[1.0,\"#f0f921\"]],\"sequentialminus\":[[0.0,\"#0d0887\"],[0.1111111111111111,\"#46039f\"],[0.2222222222222222,\"#7201a8\"],[0.3333333333333333,\"#9c179e\"],[0.4444444444444444,\"#bd3786\"],[0.5555555555555556,\"#d8576b\"],[0.6666666666666666,\"#ed7953\"],[0.7777777777777778,\"#fb9f3a\"],[0.8888888888888888,\"#fdca26\"],[1.0,\"#f0f921\"]]},\"colorway\":[\"#636efa\",\"#EF553B\",\"#00cc96\",\"#ab63fa\",\"#FFA15A\",\"#19d3f3\",\"#FF6692\",\"#B6E880\",\"#FF97FF\",\"#FECB52\"],\"font\":{\"color\":\"#2a3f5f\"},\"geo\":{\"bgcolor\":\"white\",\"lakecolor\":\"white\",\"landcolor\":\"#E5ECF6\",\"showlakes\":true,\"showland\":true,\"subunitcolor\":\"white\"},\"hoverlabel\":{\"align\":\"left\"},\"hovermode\":\"closest\",\"mapbox\":{\"style\":\"light\"},\"paper_bgcolor\":\"white\",\"plot_bgcolor\":\"#E5ECF6\",\"polar\":{\"angularaxis\":{\"gridcolor\":\"white\",\"linecolor\":\"white\",\"ticks\":\"\"},\"bgcolor\":\"#E5ECF6\",\"radialaxis\":{\"gridcolor\":\"white\",\"linecolor\":\"white\",\"ticks\":\"\"}},\"scene\":{\"xaxis\":{\"backgroundcolor\":\"#E5ECF6\",\"gridcolor\":\"white\",\"gridwidth\":2,\"linecolor\":\"white\",\"showbackground\":true,\"ticks\":\"\",\"zerolinecolor\":\"white\"},\"yaxis\":{\"backgroundcolor\":\"#E5ECF6\",\"gridcolor\":\"white\",\"gridwidth\":2,\"linecolor\":\"white\",\"showbackground\":true,\"ticks\":\"\",\"zerolinecolor\":\"white\"},\"zaxis\":{\"backgroundcolor\":\"#E5ECF6\",\"gridcolor\":\"white\",\"gridwidth\":2,\"linecolor\":\"white\",\"showbackground\":true,\"ticks\":\"\",\"zerolinecolor\":\"white\"}},\"shapedefaults\":{\"line\":{\"color\":\"#2a3f5f\"}},\"ternary\":{\"aaxis\":{\"gridcolor\":\"white\",\"linecolor\":\"white\",\"ticks\":\"\"},\"baxis\":{\"gridcolor\":\"white\",\"linecolor\":\"white\",\"ticks\":\"\"},\"bgcolor\":\"#E5ECF6\",\"caxis\":{\"gridcolor\":\"white\",\"linecolor\":\"white\",\"ticks\":\"\"}},\"title\":{\"x\":0.05},\"xaxis\":{\"automargin\":true,\"gridcolor\":\"white\",\"linecolor\":\"white\",\"ticks\":\"\",\"title\":{\"standoff\":15},\"zerolinecolor\":\"white\",\"zerolinewidth\":2},\"yaxis\":{\"automargin\":true,\"gridcolor\":\"white\",\"linecolor\":\"white\",\"ticks\":\"\",\"title\":{\"standoff\":15},\"zerolinecolor\":\"white\",\"zerolinewidth\":2}}},\"updatemenus\":[{\"active\":0,\"buttons\":[{\"args\":[{\"visible\":[true,false,false,false,false]}],\"label\":\"Inflation\",\"method\":\"update\"},{\"args\":[{\"visible\":[false,true,false,false,false]}],\"label\":\"Unemployment Rate\",\"method\":\"update\"},{\"args\":[{\"visible\":[false,false,true,false,false]}],\"label\":\"Wage Change Rate\",\"method\":\"update\"},{\"args\":[{\"visible\":[false,false,false,true,false]}],\"label\":\"Mortage\",\"method\":\"update\"},{\"args\":[{\"visible\":[false,false,false,false,true]}],\"label\":\"WTI Crude Oil \",\"method\":\"update\"}],\"type\":\"dropdown\",\"x\":0,\"xanchor\":\"left\",\"y\":1.1,\"yanchor\":\"bottom\"}],\"autosize\":false,\"width\":1100,\"height\":800},                        {\"responsive\": true}                    ).then(function(){\n",
       "                            \n",
       "var gd = document.getElementById('76e68aa2-9fdb-480e-a3ed-9091f7d96615');\n",
       "var x = new MutationObserver(function (mutations, observer) {{\n",
       "        var display = window.getComputedStyle(gd).display;\n",
       "        if (!display || display === 'none') {{\n",
       "            console.log([gd, 'removed!']);\n",
       "            Plotly.purge(gd);\n",
       "            observer.disconnect();\n",
       "        }}\n",
       "}});\n",
       "\n",
       "// Listen for the removal of the full notebook cells\n",
       "var notebookContainer = gd.closest('#notebook-container');\n",
       "if (notebookContainer) {{\n",
       "    x.observe(notebookContainer, {childList: true});\n",
       "}}\n",
       "\n",
       "// Listen for the clearing of the current output cell\n",
       "var outputEl = gd.closest('.output');\n",
       "if (outputEl) {{\n",
       "    x.observe(outputEl, {childList: true});\n",
       "}}\n",
       "\n",
       "                        })                };                });            </script>        </div>"
      ]
     },
     "metadata": {},
     "output_type": "display_data"
    }
   ],
   "source": [
    "import pandas as pd\n",
    "import plotly.graph_objects as go\n",
    "import plotly.express as px\n",
    "\n",
    "\n",
    "fig = go.Figure()\n",
    "\n",
    "country_list = list(df['Measure'].unique())\n",
    "\n",
    "for country in country_list:\n",
    "    fig.add_trace(\n",
    "        go.Scatter(\n",
    "            x = df['Year'][df['Measure']==country],\n",
    "            y = df['Value'][df['Measure']==country],\n",
    "            name = country, visible = True\n",
    "        )\n",
    "    )\n",
    "\n",
    "\n",
    "buttons = []\n",
    "\n",
    "for i, country in enumerate(country_list):\n",
    "    args = [False] * len(country_list)\n",
    "    args[i] = True\n",
    "    \n",
    "    button = dict(label = country,\n",
    "                  method = \"update\",\n",
    "                  args=[{\"visible\": args}])\n",
    "    \n",
    "    buttons.append(button)\n",
    "    \n",
    "fig.update_layout(\n",
    "    updatemenus=[dict(\n",
    "                    active=0,\n",
    "                    type=\"dropdown\",\n",
    "                    buttons=buttons,\n",
    "                    x = 0,\n",
    "                    y = 1.1,\n",
    "                    xanchor = 'left',\n",
    "                    yanchor = 'bottom'\n",
    "                )], \n",
    "    autosize=False,\n",
    "    width=1100,\n",
    "    height=800\n",
    ")"
   ]
  },
  {
   "cell_type": "code",
   "execution_count": 64,
   "id": "c2395873",
   "metadata": {},
   "outputs": [],
   "source": [
    "data = pd.read_csv('/Users/nehakardam/Documents/UWclasses /CSE Data Visualization/A3/Data/Modified_ Inflation_data.csv')"
   ]
  },
  {
   "cell_type": "code",
   "execution_count": 65,
   "id": "27b01323",
   "metadata": {},
   "outputs": [
    {
     "data": {
      "text/html": [
       "<div>\n",
       "<style scoped>\n",
       "    .dataframe tbody tr th:only-of-type {\n",
       "        vertical-align: middle;\n",
       "    }\n",
       "\n",
       "    .dataframe tbody tr th {\n",
       "        vertical-align: top;\n",
       "    }\n",
       "\n",
       "    .dataframe thead th {\n",
       "        text-align: right;\n",
       "    }\n",
       "</style>\n",
       "<table border=\"1\" class=\"dataframe\">\n",
       "  <thead>\n",
       "    <tr style=\"text-align: right;\">\n",
       "      <th></th>\n",
       "      <th>Year</th>\n",
       "      <th>Inflation</th>\n",
       "      <th>Measure</th>\n",
       "      <th>Value</th>\n",
       "      <th>Recession</th>\n",
       "      <th>Recession2</th>\n",
       "      <th>Recession_Type</th>\n",
       "    </tr>\n",
       "  </thead>\n",
       "  <tbody>\n",
       "    <tr>\n",
       "      <th>0</th>\n",
       "      <td>1977</td>\n",
       "      <td>6.50</td>\n",
       "      <td>Unemployment Rate</td>\n",
       "      <td>7.05</td>\n",
       "      <td>0</td>\n",
       "      <td>0</td>\n",
       "      <td></td>\n",
       "    </tr>\n",
       "    <tr>\n",
       "      <th>1</th>\n",
       "      <td>1977</td>\n",
       "      <td>6.50</td>\n",
       "      <td>Wage Change Rate</td>\n",
       "      <td>10.49</td>\n",
       "      <td>0</td>\n",
       "      <td>0</td>\n",
       "      <td></td>\n",
       "    </tr>\n",
       "    <tr>\n",
       "      <th>2</th>\n",
       "      <td>1977</td>\n",
       "      <td>6.50</td>\n",
       "      <td>Mortage</td>\n",
       "      <td>8.84</td>\n",
       "      <td>0</td>\n",
       "      <td>0</td>\n",
       "      <td></td>\n",
       "    </tr>\n",
       "    <tr>\n",
       "      <th>3</th>\n",
       "      <td>1977</td>\n",
       "      <td>6.50</td>\n",
       "      <td>WTI Crude Oil</td>\n",
       "      <td>13.06</td>\n",
       "      <td>0</td>\n",
       "      <td>0</td>\n",
       "      <td></td>\n",
       "    </tr>\n",
       "    <tr>\n",
       "      <th>4</th>\n",
       "      <td>1978</td>\n",
       "      <td>7.63</td>\n",
       "      <td>Unemployment Rate</td>\n",
       "      <td>6.07</td>\n",
       "      <td>0</td>\n",
       "      <td>0</td>\n",
       "      <td></td>\n",
       "    </tr>\n",
       "    <tr>\n",
       "      <th>...</th>\n",
       "      <td>...</td>\n",
       "      <td>...</td>\n",
       "      <td>...</td>\n",
       "      <td>...</td>\n",
       "      <td>...</td>\n",
       "      <td>...</td>\n",
       "      <td>...</td>\n",
       "    </tr>\n",
       "    <tr>\n",
       "      <th>175</th>\n",
       "      <td>2020</td>\n",
       "      <td>1.23</td>\n",
       "      <td>WTI Crude Oil</td>\n",
       "      <td>-31.16</td>\n",
       "      <td>80</td>\n",
       "      <td>-60</td>\n",
       "      <td>COVID-19 Pandemic</td>\n",
       "    </tr>\n",
       "    <tr>\n",
       "      <th>176</th>\n",
       "      <td>2021</td>\n",
       "      <td>4.70</td>\n",
       "      <td>Unemployment Rate</td>\n",
       "      <td>5.36</td>\n",
       "      <td>0</td>\n",
       "      <td>0</td>\n",
       "      <td></td>\n",
       "    </tr>\n",
       "    <tr>\n",
       "      <th>177</th>\n",
       "      <td>2021</td>\n",
       "      <td>4.70</td>\n",
       "      <td>Wage Change Rate</td>\n",
       "      <td>9.35</td>\n",
       "      <td>0</td>\n",
       "      <td>0</td>\n",
       "      <td></td>\n",
       "    </tr>\n",
       "    <tr>\n",
       "      <th>178</th>\n",
       "      <td>2021</td>\n",
       "      <td>4.70</td>\n",
       "      <td>Mortage</td>\n",
       "      <td>2.96</td>\n",
       "      <td>0</td>\n",
       "      <td>0</td>\n",
       "      <td></td>\n",
       "    </tr>\n",
       "    <tr>\n",
       "      <th>179</th>\n",
       "      <td>2021</td>\n",
       "      <td>4.70</td>\n",
       "      <td>WTI Crude Oil</td>\n",
       "      <td>73.32</td>\n",
       "      <td>0</td>\n",
       "      <td>0</td>\n",
       "      <td></td>\n",
       "    </tr>\n",
       "  </tbody>\n",
       "</table>\n",
       "<p>180 rows × 7 columns</p>\n",
       "</div>"
      ],
      "text/plain": [
       "     Year  Inflation            Measure  Value  Recession  Recession2  \\\n",
       "0    1977       6.50  Unemployment Rate   7.05          0           0   \n",
       "1    1977       6.50   Wage Change Rate  10.49          0           0   \n",
       "2    1977       6.50            Mortage   8.84          0           0   \n",
       "3    1977       6.50     WTI Crude Oil   13.06          0           0   \n",
       "4    1978       7.63  Unemployment Rate   6.07          0           0   \n",
       "..    ...        ...                ...    ...        ...         ...   \n",
       "175  2020       1.23     WTI Crude Oil  -31.16         80         -60   \n",
       "176  2021       4.70  Unemployment Rate   5.36          0           0   \n",
       "177  2021       4.70   Wage Change Rate   9.35          0           0   \n",
       "178  2021       4.70            Mortage   2.96          0           0   \n",
       "179  2021       4.70     WTI Crude Oil   73.32          0           0   \n",
       "\n",
       "        Recession_Type  \n",
       "0                       \n",
       "1                       \n",
       "2                       \n",
       "3                       \n",
       "4                       \n",
       "..                 ...  \n",
       "175  COVID-19 Pandemic  \n",
       "176                     \n",
       "177                     \n",
       "178                     \n",
       "179                     \n",
       "\n",
       "[180 rows x 7 columns]"
      ]
     },
     "execution_count": 65,
     "metadata": {},
     "output_type": "execute_result"
    }
   ],
   "source": [
    "data['Value'] = round(data['Value'], 2)\n",
    "data['Inflation'] = round(data['Inflation'], 2)\n",
    "data"
   ]
  },
  {
   "cell_type": "code",
   "execution_count": 66,
   "id": "a0b122cb",
   "metadata": {},
   "outputs": [
    {
     "data": {
      "text/html": [
       "\n",
       "<div id=\"altair-viz-c2589798a7934006b075513fcbdbc7bb\"></div>\n",
       "<script type=\"text/javascript\">\n",
       "  var VEGA_DEBUG = (typeof VEGA_DEBUG == \"undefined\") ? {} : VEGA_DEBUG;\n",
       "  (function(spec, embedOpt){\n",
       "    let outputDiv = document.currentScript.previousElementSibling;\n",
       "    if (outputDiv.id !== \"altair-viz-c2589798a7934006b075513fcbdbc7bb\") {\n",
       "      outputDiv = document.getElementById(\"altair-viz-c2589798a7934006b075513fcbdbc7bb\");\n",
       "    }\n",
       "    const paths = {\n",
       "      \"vega\": \"https://cdn.jsdelivr.net/npm//vega@5?noext\",\n",
       "      \"vega-lib\": \"https://cdn.jsdelivr.net/npm//vega-lib?noext\",\n",
       "      \"vega-lite\": \"https://cdn.jsdelivr.net/npm//vega-lite@4.17.0?noext\",\n",
       "      \"vega-embed\": \"https://cdn.jsdelivr.net/npm//vega-embed@6?noext\",\n",
       "    };\n",
       "\n",
       "    function maybeLoadScript(lib, version) {\n",
       "      var key = `${lib.replace(\"-\", \"\")}_version`;\n",
       "      return (VEGA_DEBUG[key] == version) ?\n",
       "        Promise.resolve(paths[lib]) :\n",
       "        new Promise(function(resolve, reject) {\n",
       "          var s = document.createElement('script');\n",
       "          document.getElementsByTagName(\"head\")[0].appendChild(s);\n",
       "          s.async = true;\n",
       "          s.onload = () => {\n",
       "            VEGA_DEBUG[key] = version;\n",
       "            return resolve(paths[lib]);\n",
       "          };\n",
       "          s.onerror = () => reject(`Error loading script: ${paths[lib]}`);\n",
       "          s.src = paths[lib];\n",
       "        });\n",
       "    }\n",
       "\n",
       "    function showError(err) {\n",
       "      outputDiv.innerHTML = `<div class=\"error\" style=\"color:red;\">${err}</div>`;\n",
       "      throw err;\n",
       "    }\n",
       "\n",
       "    function displayChart(vegaEmbed) {\n",
       "      vegaEmbed(outputDiv, spec, embedOpt)\n",
       "        .catch(err => showError(`Javascript Error: ${err.message}<br>This usually means there's a typo in your chart specification. See the javascript console for the full traceback.`));\n",
       "    }\n",
       "\n",
       "    if(typeof define === \"function\" && define.amd) {\n",
       "      requirejs.config({paths});\n",
       "      require([\"vega-embed\"], displayChart, err => showError(`Error loading script: ${err.message}`));\n",
       "    } else {\n",
       "      maybeLoadScript(\"vega\", \"5\")\n",
       "        .then(() => maybeLoadScript(\"vega-lite\", \"4.17.0\"))\n",
       "        .then(() => maybeLoadScript(\"vega-embed\", \"6\"))\n",
       "        .catch(showError)\n",
       "        .then(() => displayChart(vegaEmbed));\n",
       "    }\n",
       "  })({\"config\": {\"view\": {\"continuousWidth\": 400, \"continuousHeight\": 300}}, \"layer\": [{\"mark\": \"line\", \"encoding\": {\"color\": {\"field\": \"Measure\", \"type\": \"nominal\"}, \"x\": {\"field\": \"Year\", \"type\": \"ordinal\"}, \"y\": {\"axis\": {\"title\": \"Percentage %\"}, \"field\": \"Value\", \"type\": \"quantitative\"}}}, {\"mark\": \"line\", \"encoding\": {\"color\": {\"value\": \"#000000\"}, \"x\": {\"field\": \"Year\", \"type\": \"ordinal\"}, \"y\": {\"axis\": {\"title\": null}, \"field\": \"Inflation\", \"type\": \"quantitative\"}}}], \"data\": {\"name\": \"data-dda4ed0ff7e7882c6c05067fd368dc07\"}, \"$schema\": \"https://vega.github.io/schema/vega-lite/v4.17.0.json\", \"datasets\": {\"data-dda4ed0ff7e7882c6c05067fd368dc07\": [{\"Year\": 1977, \"Inflation\": 6.5, \"Measure\": \"Unemployment Rate\", \"Value\": 7.05, \"Recession\": 0, \"Recession2\": 0, \"Recession_Type\": \" \"}, {\"Year\": 1977, \"Inflation\": 6.5, \"Measure\": \"Wage Change Rate\", \"Value\": 10.49, \"Recession\": 0, \"Recession2\": 0, \"Recession_Type\": \" \"}, {\"Year\": 1977, \"Inflation\": 6.5, \"Measure\": \"Mortage\", \"Value\": 8.84, \"Recession\": 0, \"Recession2\": 0, \"Recession_Type\": \" \"}, {\"Year\": 1977, \"Inflation\": 6.5, \"Measure\": \"WTI Crude Oil \", \"Value\": 13.06, \"Recession\": 0, \"Recession2\": 0, \"Recession_Type\": \" \"}, {\"Year\": 1978, \"Inflation\": 7.63, \"Measure\": \"Unemployment Rate\", \"Value\": 6.07, \"Recession\": 0, \"Recession2\": 0, \"Recession_Type\": \" \"}, {\"Year\": 1978, \"Inflation\": 7.63, \"Measure\": \"Wage Change Rate\", \"Value\": 12.72, \"Recession\": 0, \"Recession2\": 0, \"Recession_Type\": \" \"}, {\"Year\": 1978, \"Inflation\": 7.63, \"Measure\": \"Mortage\", \"Value\": 9.63, \"Recession\": 0, \"Recession2\": 0, \"Recession_Type\": \" \"}, {\"Year\": 1978, \"Inflation\": 7.63, \"Measure\": \"WTI Crude Oil \", \"Value\": 3.88, \"Recession\": 0, \"Recession2\": 0, \"Recession_Type\": \" \"}, {\"Year\": 1979, \"Inflation\": 11.25, \"Measure\": \"Unemployment Rate\", \"Value\": 5.85, \"Recession\": 0, \"Recession2\": 0, \"Recession_Type\": \" \"}, {\"Year\": 1979, \"Inflation\": 11.25, \"Measure\": \"Wage Change Rate\", \"Value\": 11.85, \"Recession\": 0, \"Recession2\": 0, \"Recession_Type\": \" \"}, {\"Year\": 1979, \"Inflation\": 11.25, \"Measure\": \"Mortage\", \"Value\": 11.19, \"Recession\": 0, \"Recession2\": 0, \"Recession_Type\": \" \"}, {\"Year\": 1979, \"Inflation\": 11.25, \"Measure\": \"WTI Crude Oil \", \"Value\": 50.87, \"Recession\": 0, \"Recession2\": 0, \"Recession_Type\": \" \"}, {\"Year\": 1980, \"Inflation\": 13.55, \"Measure\": \"Unemployment Rate\", \"Value\": 7.18, \"Recession\": 80, \"Recession2\": -60, \"Recession_Type\": \"The Double-Dip Recession\"}, {\"Year\": 1980, \"Inflation\": 13.55, \"Measure\": \"Wage Change Rate\", \"Value\": 9.58, \"Recession\": 80, \"Recession2\": -60, \"Recession_Type\": \"The Double-Dip Recession\"}, {\"Year\": 1980, \"Inflation\": 13.55, \"Measure\": \"Mortage\", \"Value\": 13.74, \"Recession\": 80, \"Recession2\": -60, \"Recession_Type\": \"The Double-Dip Recession\"}, {\"Year\": 1980, \"Inflation\": 13.55, \"Measure\": \"WTI Crude Oil \", \"Value\": 66.82, \"Recession\": 80, \"Recession2\": -60, \"Recession_Type\": \"The Double-Dip Recession\"}, {\"Year\": 1981, \"Inflation\": 10.33, \"Measure\": \"Unemployment Rate\", \"Value\": 7.62, \"Recession\": 80, \"Recession2\": -60, \"Recession_Type\": \"The Double-Dip Recession\"}, {\"Year\": 1981, \"Inflation\": 10.33, \"Measure\": \"Wage Change Rate\", \"Value\": 10.04, \"Recession\": 80, \"Recession2\": -60, \"Recession_Type\": \"The Double-Dip Recession\"}, {\"Year\": 1981, \"Inflation\": 10.33, \"Measure\": \"Mortage\", \"Value\": 16.64, \"Recession\": 80, \"Recession2\": -60, \"Recession_Type\": \"The Double-Dip Recession\"}, {\"Year\": 1981, \"Inflation\": 10.33, \"Measure\": \"WTI Crude Oil \", \"Value\": -1.9, \"Recession\": 80, \"Recession2\": -60, \"Recession_Type\": \"The Double-Dip Recession\"}, {\"Year\": 1982, \"Inflation\": 6.13, \"Measure\": \"Unemployment Rate\", \"Value\": 9.71, \"Recession\": 80, \"Recession2\": -60, \"Recession_Type\": \"The Double-Dip Recession\"}, {\"Year\": 1982, \"Inflation\": 6.13, \"Measure\": \"Wage Change Rate\", \"Value\": 5.04, \"Recession\": 80, \"Recession2\": -60, \"Recession_Type\": \"The Double-Dip Recession\"}, {\"Year\": 1982, \"Inflation\": 6.13, \"Measure\": \"Mortage\", \"Value\": 16.04, \"Recession\": 80, \"Recession2\": -60, \"Recession_Type\": \"The Double-Dip Recession\"}, {\"Year\": 1982, \"Inflation\": 6.13, \"Measure\": \"WTI Crude Oil \", \"Value\": -8.27, \"Recession\": 80, \"Recession2\": -60, \"Recession_Type\": \"The Double-Dip Recession\"}, {\"Year\": 1983, \"Inflation\": 3.21, \"Measure\": \"Unemployment Rate\", \"Value\": 9.6, \"Recession\": 0, \"Recession2\": 0, \"Recession_Type\": \"  \"}, {\"Year\": 1983, \"Inflation\": 3.21, \"Measure\": \"Wage Change Rate\", \"Value\": 5.67, \"Recession\": 0, \"Recession2\": 0, \"Recession_Type\": \"  \"}, {\"Year\": 1983, \"Inflation\": 3.21, \"Measure\": \"Mortage\", \"Value\": 13.24, \"Recession\": 0, \"Recession2\": 0, \"Recession_Type\": \"  \"}, {\"Year\": 1983, \"Inflation\": 3.21, \"Measure\": \"WTI Crude Oil \", \"Value\": -9.64, \"Recession\": 0, \"Recession2\": 0, \"Recession_Type\": \"  \"}, {\"Year\": 1984, \"Inflation\": 4.3, \"Measure\": \"Unemployment Rate\", \"Value\": 7.51, \"Recession\": 0, \"Recession2\": 0, \"Recession_Type\": \"  \"}, {\"Year\": 1984, \"Inflation\": 4.3, \"Measure\": \"Wage Change Rate\", \"Value\": 9.98, \"Recession\": 0, \"Recession2\": 0, \"Recession_Type\": \"  \"}, {\"Year\": 1984, \"Inflation\": 4.3, \"Measure\": \"Mortage\", \"Value\": 13.88, \"Recession\": 0, \"Recession2\": 0, \"Recession_Type\": \"  \"}, {\"Year\": 1984, \"Inflation\": 4.3, \"Measure\": \"WTI Crude Oil \", \"Value\": -3.68, \"Recession\": 0, \"Recession2\": 0, \"Recession_Type\": \"Early 1990s Recession\"}, {\"Year\": 1985, \"Inflation\": 3.55, \"Measure\": \"Unemployment Rate\", \"Value\": 7.19, \"Recession\": 0, \"Recession2\": 0, \"Recession_Type\": \"Early 1990s Recession\"}, {\"Year\": 1985, \"Inflation\": 3.55, \"Measure\": \"Wage Change Rate\", \"Value\": 7.46, \"Recession\": 0, \"Recession2\": 0, \"Recession_Type\": \"Early 1990s Recession\"}, {\"Year\": 1985, \"Inflation\": 3.55, \"Measure\": \"Mortage\", \"Value\": 12.46, \"Recession\": 0, \"Recession2\": 0, \"Recession_Type\": \"Early 1990s Recession\"}, {\"Year\": 1985, \"Inflation\": 3.55, \"Measure\": \"WTI Crude Oil \", \"Value\": -4.45, \"Recession\": 0, \"Recession2\": 0, \"Recession_Type\": \"Early 1990s Recession\"}, {\"Year\": 1986, \"Inflation\": 1.9, \"Measure\": \"Unemployment Rate\", \"Value\": 7.0, \"Recession\": 0, \"Recession2\": 0, \"Recession_Type\": \"  \"}, {\"Year\": 1986, \"Inflation\": 1.9, \"Measure\": \"Wage Change Rate\", \"Value\": 6.04, \"Recession\": 0, \"Recession2\": 0, \"Recession_Type\": \"  \"}, {\"Year\": 1986, \"Inflation\": 1.9, \"Measure\": \"Mortage\", \"Value\": 10.19, \"Recession\": 0, \"Recession2\": 0, \"Recession_Type\": \"  \"}, {\"Year\": 1986, \"Inflation\": 1.9, \"Measure\": \"WTI Crude Oil \", \"Value\": -46.23, \"Recession\": 0, \"Recession2\": 0, \"Recession_Type\": \"  \"}, {\"Year\": 1987, \"Inflation\": 3.66, \"Measure\": \"Unemployment Rate\", \"Value\": 6.18, \"Recession\": 0, \"Recession2\": 0, \"Recession_Type\": null}, {\"Year\": 1987, \"Inflation\": 3.66, \"Measure\": \"Wage Change Rate\", \"Value\": 7.32, \"Recession\": 0, \"Recession2\": 0, \"Recession_Type\": \"  \"}, {\"Year\": 1987, \"Inflation\": 3.66, \"Measure\": \"Mortage\", \"Value\": 10.21, \"Recession\": 0, \"Recession2\": 0, \"Recession_Type\": \"  \"}, {\"Year\": 1987, \"Inflation\": 3.66, \"Measure\": \"WTI Crude Oil \", \"Value\": 27.41, \"Recession\": 0, \"Recession2\": 0, \"Recession_Type\": \"  \"}, {\"Year\": 1988, \"Inflation\": 4.08, \"Measure\": \"Unemployment Rate\", \"Value\": 5.49, \"Recession\": 0, \"Recession2\": 0, \"Recession_Type\": \"  \"}, {\"Year\": 1988, \"Inflation\": 4.08, \"Measure\": \"Wage Change Rate\", \"Value\": 8.13, \"Recession\": 0, \"Recession2\": 0, \"Recession_Type\": \"  \"}, {\"Year\": 1988, \"Inflation\": 4.08, \"Measure\": \"Mortage\", \"Value\": 10.34, \"Recession\": 0, \"Recession2\": 0, \"Recession_Type\": \"  \"}, {\"Year\": 1988, \"Inflation\": 4.08, \"Measure\": \"WTI Crude Oil \", \"Value\": -16.71, \"Recession\": 0, \"Recession2\": 0, \"Recession_Type\": \"  \"}, {\"Year\": 1989, \"Inflation\": 4.83, \"Measure\": \"Unemployment Rate\", \"Value\": 5.26, \"Recession\": 0, \"Recession2\": 0, \"Recession_Type\": \"  \"}, {\"Year\": 1989, \"Inflation\": 4.83, \"Measure\": \"Wage Change Rate\", \"Value\": 5.87, \"Recession\": 0, \"Recession2\": 0, \"Recession_Type\": \"  \"}, {\"Year\": 1989, \"Inflation\": 4.83, \"Measure\": \"Mortage\", \"Value\": 10.32, \"Recession\": 0, \"Recession2\": 0, \"Recession_Type\": \"  \"}, {\"Year\": 1989, \"Inflation\": 4.83, \"Measure\": \"WTI Crude Oil \", \"Value\": 22.75, \"Recession\": 0, \"Recession2\": 0, \"Recession_Type\": \"  \"}, {\"Year\": 1990, \"Inflation\": 5.4, \"Measure\": \"Unemployment Rate\", \"Value\": 5.62, \"Recession\": 80, \"Recession2\": -60, \"Recession_Type\": \"Early 1990s Recession\"}, {\"Year\": 1990, \"Inflation\": 5.4, \"Measure\": \"Wage Change Rate\", \"Value\": 6.12, \"Recession\": 80, \"Recession2\": -60, \"Recession_Type\": \"Early 1990s Recession\"}, {\"Year\": 1990, \"Inflation\": 5.4, \"Measure\": \"Mortage\", \"Value\": 10.13, \"Recession\": 80, \"Recession2\": -60, \"Recession_Type\": \"Early 1990s Recession\"}, {\"Year\": 1990, \"Inflation\": 5.4, \"Measure\": \"WTI Crude Oil \", \"Value\": 25.02, \"Recession\": 80, \"Recession2\": -60, \"Recession_Type\": \"Early 1990s Recession\"}, {\"Year\": 1991, \"Inflation\": 4.23, \"Measure\": \"Unemployment Rate\", \"Value\": 6.85, \"Recession\": 80, \"Recession2\": -60, \"Recession_Type\": \"Early 1990s Recession\"}, {\"Year\": 1991, \"Inflation\": 4.23, \"Measure\": \"Wage Change Rate\", \"Value\": 2.67, \"Recession\": 80, \"Recession2\": -60, \"Recession_Type\": \"Early 1990s Recession\"}, {\"Year\": 1991, \"Inflation\": 4.23, \"Measure\": \"Mortage\", \"Value\": 9.25, \"Recession\": 80, \"Recession2\": -60, \"Recession_Type\": \"Early 1990s Recession\"}, {\"Year\": 1991, \"Inflation\": 4.23, \"Measure\": \"WTI Crude Oil \", \"Value\": -12.3, \"Recession\": 80, \"Recession2\": -60, \"Recession_Type\": \"Early 1990s Recession\"}, {\"Year\": 1992, \"Inflation\": 3.03, \"Measure\": \"Unemployment Rate\", \"Value\": 7.49, \"Recession\": 0, \"Recession2\": 0, \"Recession_Type\": \"  \"}, {\"Year\": 1992, \"Inflation\": 3.03, \"Measure\": \"Wage Change Rate\", \"Value\": 5.37, \"Recession\": 0, \"Recession2\": 0, \"Recession_Type\": \"  \"}, {\"Year\": 1992, \"Inflation\": 3.03, \"Measure\": \"Mortage\", \"Value\": 8.39, \"Recession\": 0, \"Recession2\": 0, \"Recession_Type\": \"  \"}, {\"Year\": 1992, \"Inflation\": 3.03, \"Measure\": \"WTI Crude Oil \", \"Value\": -4.28, \"Recession\": 0, \"Recession2\": 0, \"Recession_Type\": \"  \"}, {\"Year\": 1993, \"Inflation\": 2.95, \"Measure\": \"Unemployment Rate\", \"Value\": 6.91, \"Recession\": 0, \"Recession2\": 0, \"Recession_Type\": \"  \"}, {\"Year\": 1993, \"Inflation\": 2.95, \"Measure\": \"Wage Change Rate\", \"Value\": 3.84, \"Recession\": 0, \"Recession2\": 0, \"Recession_Type\": \"  \"}, {\"Year\": 1993, \"Inflation\": 2.95, \"Measure\": \"Mortage\", \"Value\": 7.31, \"Recession\": 0, \"Recession2\": 0, \"Recession_Type\": \"  \"}, {\"Year\": 1993, \"Inflation\": 2.95, \"Measure\": \"WTI Crude Oil \", \"Value\": -10.23, \"Recession\": 0, \"Recession2\": 0, \"Recession_Type\": \"  \"}, {\"Year\": 1994, \"Inflation\": 2.61, \"Measure\": \"Unemployment Rate\", \"Value\": 6.1, \"Recession\": 0, \"Recession2\": 0, \"Recession_Type\": \"  \"}, {\"Year\": 1994, \"Inflation\": 2.61, \"Measure\": \"Wage Change Rate\", \"Value\": 5.11, \"Recession\": 0, \"Recession2\": 0, \"Recession_Type\": \"  \"}, {\"Year\": 1994, \"Inflation\": 2.61, \"Measure\": \"Mortage\", \"Value\": 8.38, \"Recession\": 0, \"Recession2\": 0, \"Recession_Type\": \"  \"}, {\"Year\": 1994, \"Inflation\": 2.61, \"Measure\": \"WTI Crude Oil \", \"Value\": -6.89, \"Recession\": 0, \"Recession2\": 0, \"Recession_Type\": \"  \"}, {\"Year\": 1995, \"Inflation\": 2.81, \"Measure\": \"Unemployment Rate\", \"Value\": 5.59, \"Recession\": 0, \"Recession2\": 0, \"Recession_Type\": \"  \"}, {\"Year\": 1995, \"Inflation\": 2.81, \"Measure\": \"Wage Change Rate\", \"Value\": 5.61, \"Recession\": 0, \"Recession2\": 0, \"Recession_Type\": \"  \"}, {\"Year\": 1995, \"Inflation\": 2.81, \"Measure\": \"Mortage\", \"Value\": 7.93, \"Recession\": 0, \"Recession2\": 0, \"Recession_Type\": \"  \"}, {\"Year\": 1995, \"Inflation\": 2.81, \"Measure\": \"WTI Crude Oil \", \"Value\": 7.22, \"Recession\": 0, \"Recession2\": 0, \"Recession_Type\": \"  \"}, {\"Year\": 1996, \"Inflation\": 2.93, \"Measure\": \"Unemployment Rate\", \"Value\": 5.41, \"Recession\": 0, \"Recession2\": 0, \"Recession_Type\": \"  \"}, {\"Year\": 1996, \"Inflation\": 2.93, \"Measure\": \"Wage Change Rate\", \"Value\": 5.81, \"Recession\": 0, \"Recession2\": 0, \"Recession_Type\": \"  \"}, {\"Year\": 1996, \"Inflation\": 2.93, \"Measure\": \"Mortage\", \"Value\": 7.81, \"Recession\": 0, \"Recession2\": 0, \"Recession_Type\": \"  \"}, {\"Year\": 1996, \"Inflation\": 2.93, \"Measure\": \"WTI Crude Oil \", \"Value\": 20.22, \"Recession\": 0, \"Recession2\": 0, \"Recession_Type\": \"  \"}, {\"Year\": 1997, \"Inflation\": 2.34, \"Measure\": \"Unemployment Rate\", \"Value\": 4.94, \"Recession\": 0, \"Recession2\": 0, \"Recession_Type\": \"  \"}, {\"Year\": 1997, \"Inflation\": 2.34, \"Measure\": \"Wage Change Rate\", \"Value\": 7.2, \"Recession\": 0, \"Recession2\": 0, \"Recession_Type\": \"  \"}, {\"Year\": 1997, \"Inflation\": 2.34, \"Measure\": \"Mortage\", \"Value\": 7.6, \"Recession\": 0, \"Recession2\": 0, \"Recession_Type\": \"  \"}, {\"Year\": 1997, \"Inflation\": 2.34, \"Measure\": \"WTI Crude Oil \", \"Value\": -7.02, \"Recession\": 0, \"Recession2\": 0, \"Recession_Type\": \"  \"}, {\"Year\": 1998, \"Inflation\": 1.55, \"Measure\": \"Unemployment Rate\", \"Value\": 4.5, \"Recession\": 0, \"Recession2\": 0, \"Recession_Type\": \"  \"}, {\"Year\": 1998, \"Inflation\": 1.55, \"Measure\": \"Wage Change Rate\", \"Value\": 7.86, \"Recession\": 0, \"Recession2\": 0, \"Recession_Type\": \"  \"}, {\"Year\": 1998, \"Inflation\": 1.55, \"Measure\": \"Mortage\", \"Value\": 6.94, \"Recession\": 0, \"Recession2\": 0, \"Recession_Type\": \"  \"}, {\"Year\": 1998, \"Inflation\": 1.55, \"Measure\": \"WTI Crude Oil \", \"Value\": -30.15, \"Recession\": 0, \"Recession2\": 0, \"Recession_Type\": \"  \"}, {\"Year\": 1999, \"Inflation\": 2.19, \"Measure\": \"Unemployment Rate\", \"Value\": 4.22, \"Recession\": 0, \"Recession2\": 0, \"Recession_Type\": \"  \"}, {\"Year\": 1999, \"Inflation\": 2.19, \"Measure\": \"Wage Change Rate\", \"Value\": 6.61, \"Recession\": 0, \"Recession2\": 0, \"Recession_Type\": \"  \"}, {\"Year\": 1999, \"Inflation\": 2.19, \"Measure\": \"Mortage\", \"Value\": 7.44, \"Recession\": 0, \"Recession2\": 0, \"Recession_Type\": \"  \"}, {\"Year\": 1999, \"Inflation\": 2.19, \"Measure\": \"WTI Crude Oil \", \"Value\": 33.8, \"Recession\": 0, \"Recession2\": 0, \"Recession_Type\": \"  \"}, {\"Year\": 2000, \"Inflation\": 3.38, \"Measure\": \"Unemployment Rate\", \"Value\": 3.97, \"Recession\": 0, \"Recession2\": 0, \"Recession_Type\": \"  \"}, {\"Year\": 2000, \"Inflation\": 3.38, \"Measure\": \"Wage Change Rate\", \"Value\": 8.23, \"Recession\": 0, \"Recession2\": 0, \"Recession_Type\": \"  \"}, {\"Year\": 2000, \"Inflation\": 3.38, \"Measure\": \"Mortage\", \"Value\": 8.05, \"Recession\": 0, \"Recession2\": 0, \"Recession_Type\": \"  \"}, {\"Year\": 2000, \"Inflation\": 3.38, \"Measure\": \"WTI Crude Oil \", \"Value\": 57.38, \"Recession\": 0, \"Recession2\": 0, \"Recession_Type\": \"  \"}, {\"Year\": 2001, \"Inflation\": 2.83, \"Measure\": \"Unemployment Rate\", \"Value\": 4.74, \"Recession\": 80, \"Recession2\": -60, \"Recession_Type\": \" The Dot Com Bust\"}, {\"Year\": 2001, \"Inflation\": 2.83, \"Measure\": \"Wage Change Rate\", \"Value\": 2.67, \"Recession\": 80, \"Recession2\": -60, \"Recession_Type\": \" The Dot Com Bust\"}, {\"Year\": 2001, \"Inflation\": 2.83, \"Measure\": \"Mortage\", \"Value\": 6.97, \"Recession\": 80, \"Recession2\": -60, \"Recession_Type\": \" The Dot Com Bust\"}, {\"Year\": 2001, \"Inflation\": 2.83, \"Measure\": \"WTI Crude Oil \", \"Value\": -14.44, \"Recession\": 80, \"Recession2\": -60, \"Recession_Type\": \" The Dot Com Bust\"}, {\"Year\": 2002, \"Inflation\": 1.59, \"Measure\": \"Unemployment Rate\", \"Value\": 5.78, \"Recession\": 0, \"Recession2\": 0, \"Recession_Type\": null}, {\"Year\": 2002, \"Inflation\": 1.59, \"Measure\": \"Wage Change Rate\", \"Value\": 0.85, \"Recession\": 0, \"Recession2\": 0, \"Recession_Type\": null}, {\"Year\": 2002, \"Inflation\": 1.59, \"Measure\": \"Mortage\", \"Value\": 6.54, \"Recession\": 0, \"Recession2\": 0, \"Recession_Type\": null}, {\"Year\": 2002, \"Inflation\": 1.59, \"Measure\": \"WTI Crude Oil \", \"Value\": 0.67, \"Recession\": 0, \"Recession2\": 0, \"Recession_Type\": null}, {\"Year\": 2003, \"Inflation\": 2.27, \"Measure\": \"Unemployment Rate\", \"Value\": 5.99, \"Recession\": 0, \"Recession2\": 0, \"Recession_Type\": \"  \"}, {\"Year\": 2003, \"Inflation\": 2.27, \"Measure\": \"Wage Change Rate\", \"Value\": 2.85, \"Recession\": 0, \"Recession2\": 0, \"Recession_Type\": \"  \"}, {\"Year\": 2003, \"Inflation\": 2.27, \"Measure\": \"Mortage\", \"Value\": 5.83, \"Recession\": 0, \"Recession2\": 0, \"Recession_Type\": \"  \"}, {\"Year\": 2003, \"Inflation\": 2.27, \"Measure\": \"WTI Crude Oil \", \"Value\": 19.32, \"Recession\": 0, \"Recession2\": 0, \"Recession_Type\": \"  \"}, {\"Year\": 2004, \"Inflation\": 2.68, \"Measure\": \"Unemployment Rate\", \"Value\": 5.54, \"Recession\": 0, \"Recession2\": 0, \"Recession_Type\": \"  \"}, {\"Year\": 2004, \"Inflation\": 2.68, \"Measure\": \"Wage Change Rate\", \"Value\": 5.5, \"Recession\": 0, \"Recession2\": 0, \"Recession_Type\": \"  \"}, {\"Year\": 2004, \"Inflation\": 2.68, \"Measure\": \"Mortage\", \"Value\": 5.84, \"Recession\": 0, \"Recession2\": 0, \"Recession_Type\": \"  \"}, {\"Year\": 2004, \"Inflation\": 2.68, \"Measure\": \"WTI Crude Oil \", \"Value\": 33.07, \"Recession\": 0, \"Recession2\": 0, \"Recession_Type\": \"  \"}, {\"Year\": 2005, \"Inflation\": 3.39, \"Measure\": \"Unemployment Rate\", \"Value\": 5.08, \"Recession\": 0, \"Recession2\": 0, \"Recession_Type\": \"  \"}, {\"Year\": 2005, \"Inflation\": 3.39, \"Measure\": \"Wage Change Rate\", \"Value\": 4.99, \"Recession\": 0, \"Recession2\": 0, \"Recession_Type\": \"  \"}, {\"Year\": 2005, \"Inflation\": 3.39, \"Measure\": \"Mortage\", \"Value\": 5.87, \"Recession\": 0, \"Recession2\": 0, \"Recession_Type\": \"  \"}, {\"Year\": 2005, \"Inflation\": 3.39, \"Measure\": \"WTI Crude Oil \", \"Value\": 36.26, \"Recession\": 0, \"Recession2\": 0, \"Recession_Type\": \"  \"}, {\"Year\": 2006, \"Inflation\": 3.23, \"Measure\": \"Unemployment Rate\", \"Value\": 4.61, \"Recession\": 0, \"Recession2\": 0, \"Recession_Type\": \"  \"}, {\"Year\": 2006, \"Inflation\": 3.23, \"Measure\": \"Wage Change Rate\", \"Value\": 6.42, \"Recession\": 0, \"Recession2\": 0, \"Recession_Type\": \"  \"}, {\"Year\": 2006, \"Inflation\": 3.23, \"Measure\": \"Mortage\", \"Value\": 6.41, \"Recession\": 0, \"Recession2\": 0, \"Recession_Type\": \"  \"}, {\"Year\": 2006, \"Inflation\": 3.23, \"Measure\": \"WTI Crude Oil \", \"Value\": 17.07, \"Recession\": 0, \"Recession2\": 0, \"Recession_Type\": \"  \"}, {\"Year\": 2007, \"Inflation\": 2.85, \"Measure\": \"Unemployment Rate\", \"Value\": 4.62, \"Recession\": 80, \"Recession2\": -60, \"Recession_Type\": \"The Great Recession\"}, {\"Year\": 2007, \"Inflation\": 2.85, \"Measure\": \"Wage Change Rate\", \"Value\": 5.61, \"Recession\": 80, \"Recession2\": -60, \"Recession_Type\": \"The Great Recession\"}, {\"Year\": 2007, \"Inflation\": 2.85, \"Measure\": \"Mortage\", \"Value\": 6.34, \"Recession\": 80, \"Recession2\": -60, \"Recession_Type\": \"The Great Recession\"}, {\"Year\": 2007, \"Inflation\": 2.85, \"Measure\": \"WTI Crude Oil \", \"Value\": 9.47, \"Recession\": 80, \"Recession2\": -60, \"Recession_Type\": \"The Great Recession\"}, {\"Year\": 2008, \"Inflation\": 3.84, \"Measure\": \"Unemployment Rate\", \"Value\": 5.8, \"Recession\": 80, \"Recession2\": -60, \"Recession_Type\": \"The Great Recession\"}, {\"Year\": 2008, \"Inflation\": 3.84, \"Measure\": \"Wage Change Rate\", \"Value\": 2.15, \"Recession\": 80, \"Recession2\": -60, \"Recession_Type\": \"The Great Recession\"}, {\"Year\": 2008, \"Inflation\": 3.84, \"Measure\": \"Mortage\", \"Value\": 6.01, \"Recession\": 80, \"Recession2\": -60, \"Recession_Type\": \"The Great Recession\"}, {\"Year\": 2008, \"Inflation\": 3.84, \"Measure\": \"WTI Crude Oil \", \"Value\": 37.6, \"Recession\": 80, \"Recession2\": -60, \"Recession_Type\": \"The Great Recession\"}, {\"Year\": 2009, \"Inflation\": -0.36, \"Measure\": \"Unemployment Rate\", \"Value\": 9.28, \"Recession\": 80, \"Recession2\": -60, \"Recession_Type\": \"The Great Recession\"}, {\"Year\": 2009, \"Inflation\": -0.36, \"Measure\": \"Wage Change Rate\", \"Value\": -4.36, \"Recession\": 80, \"Recession2\": -60, \"Recession_Type\": \"The Great Recession\"}, {\"Year\": 2009, \"Inflation\": -0.36, \"Measure\": \"Mortage\", \"Value\": 5.04, \"Recession\": 80, \"Recession2\": -60, \"Recession_Type\": \"The Great Recession\"}, {\"Year\": 2009, \"Inflation\": -0.36, \"Measure\": \"WTI Crude Oil \", \"Value\": -38.04, \"Recession\": 80, \"Recession2\": -60, \"Recession_Type\": \"The Great Recession\"}, {\"Year\": 2010, \"Inflation\": 1.64, \"Measure\": \"Unemployment Rate\", \"Value\": 9.61, \"Recession\": 0, \"Recession2\": 0, \"Recession_Type\": \"  \"}, {\"Year\": 2010, \"Inflation\": 1.64, \"Measure\": \"Wage Change Rate\", \"Value\": 1.97, \"Recession\": 0, \"Recession2\": 0, \"Recession_Type\": \"  \"}, {\"Year\": 2010, \"Inflation\": 1.64, \"Measure\": \"Mortage\", \"Value\": 4.69, \"Recession\": 0, \"Recession2\": 0, \"Recession_Type\": \"  \"}, {\"Year\": 2010, \"Inflation\": 1.64, \"Measure\": \"WTI Crude Oil \", \"Value\": 28.75, \"Recession\": 0, \"Recession2\": 0, \"Recession_Type\": \"  \"}, {\"Year\": 2011, \"Inflation\": 3.16, \"Measure\": \"Unemployment Rate\", \"Value\": 8.93, \"Recession\": 0, \"Recession2\": 0, \"Recession_Type\": \"  \"}, {\"Year\": 2011, \"Inflation\": 3.16, \"Measure\": \"Wage Change Rate\", \"Value\": 3.98, \"Recession\": 0, \"Recession2\": 0, \"Recession_Type\": \"  \"}, {\"Year\": 2011, \"Inflation\": 3.16, \"Measure\": \"Mortage\", \"Value\": 4.45, \"Recession\": 0, \"Recession2\": 0, \"Recession_Type\": \"  \"}, {\"Year\": 2011, \"Inflation\": 3.16, \"Measure\": \"WTI Crude Oil \", \"Value\": 19.7, \"Recession\": 0, \"Recession2\": 0, \"Recession_Type\": \"  \"}, {\"Year\": 2012, \"Inflation\": 2.07, \"Measure\": \"Unemployment Rate\", \"Value\": 8.07, \"Recession\": 0, \"Recession2\": 0, \"Recession_Type\": \"  \"}, {\"Year\": 2012, \"Inflation\": 2.07, \"Measure\": \"Wage Change Rate\", \"Value\": 4.56, \"Recession\": 0, \"Recession2\": 0, \"Recession_Type\": \"  \"}, {\"Year\": 2012, \"Inflation\": 2.07, \"Measure\": \"Mortage\", \"Value\": 3.66, \"Recession\": 0, \"Recession2\": 0, \"Recession_Type\": \"  \"}, {\"Year\": 2012, \"Inflation\": 2.07, \"Measure\": \"WTI Crude Oil \", \"Value\": -0.92, \"Recession\": 0, \"Recession2\": 0, \"Recession_Type\": \"  \"}, {\"Year\": 2013, \"Inflation\": 1.46, \"Measure\": \"Unemployment Rate\", \"Value\": 7.36, \"Recession\": 0, \"Recession2\": 0, \"Recession_Type\": \"  \"}, {\"Year\": 2013, \"Inflation\": 1.46, \"Measure\": \"Wage Change Rate\", \"Value\": 2.68, \"Recession\": 0, \"Recession2\": 0, \"Recession_Type\": \"  \"}, {\"Year\": 2013, \"Inflation\": 1.46, \"Measure\": \"Mortage\", \"Value\": 3.98, \"Recession\": 0, \"Recession2\": 0, \"Recession_Type\": \"  \"}, {\"Year\": 2013, \"Inflation\": 1.46, \"Measure\": \"WTI Crude Oil \", \"Value\": 3.96, \"Recession\": 0, \"Recession2\": 0, \"Recession_Type\": \"  \"}, {\"Year\": 2014, \"Inflation\": 1.62, \"Measure\": \"Unemployment Rate\", \"Value\": 6.16, \"Recession\": 0, \"Recession2\": 0, \"Recession_Type\": \"  \"}, {\"Year\": 2014, \"Inflation\": 1.62, \"Measure\": \"Wage Change Rate\", \"Value\": 5.09, \"Recession\": 0, \"Recession2\": 0, \"Recession_Type\": \"  \"}, {\"Year\": 2014, \"Inflation\": 1.62, \"Measure\": \"Mortage\", \"Value\": 4.17, \"Recession\": 0, \"Recession2\": 0, \"Recession_Type\": \"  \"}, {\"Year\": 2014, \"Inflation\": 1.62, \"Measure\": \"WTI Crude Oil \", \"Value\": -4.78, \"Recession\": 0, \"Recession2\": 0, \"Recession_Type\": \"  \"}, {\"Year\": 2015, \"Inflation\": 0.12, \"Measure\": \"Unemployment Rate\", \"Value\": 5.28, \"Recession\": 0, \"Recession2\": 0, \"Recession_Type\": \"  \"}, {\"Year\": 2015, \"Inflation\": 0.12, \"Measure\": \"Wage Change Rate\", \"Value\": 5.13, \"Recession\": 0, \"Recession2\": 0, \"Recession_Type\": \"  \"}, {\"Year\": 2015, \"Inflation\": 0.12, \"Measure\": \"Mortage\", \"Value\": 3.85, \"Recession\": 0, \"Recession2\": 0, \"Recession_Type\": \"  \"}, {\"Year\": 2015, \"Inflation\": 0.12, \"Measure\": \"WTI Crude Oil \", \"Value\": -47.79, \"Recession\": 0, \"Recession2\": 0, \"Recession_Type\": \"  \"}, {\"Year\": 2016, \"Inflation\": 1.26, \"Measure\": \"Unemployment Rate\", \"Value\": 4.88, \"Recession\": 0, \"Recession2\": 0, \"Recession_Type\": \"  \"}, {\"Year\": 2016, \"Inflation\": 1.26, \"Measure\": \"Wage Change Rate\", \"Value\": 2.95, \"Recession\": 0, \"Recession2\": 0, \"Recession_Type\": \"  \"}, {\"Year\": 2016, \"Inflation\": 1.26, \"Measure\": \"Mortage\", \"Value\": 3.65, \"Recession\": 0, \"Recession2\": 0, \"Recession_Type\": \"  \"}, {\"Year\": 2016, \"Inflation\": 1.26, \"Measure\": \"WTI Crude Oil \", \"Value\": -11.39, \"Recession\": 0, \"Recession2\": 0, \"Recession_Type\": \"  \"}, {\"Year\": 2017, \"Inflation\": 2.13, \"Measure\": \"Unemployment Rate\", \"Value\": 4.36, \"Recession\": 0, \"Recession2\": 0, \"Recession_Type\": \"  \"}, {\"Year\": 2017, \"Inflation\": 2.13, \"Measure\": \"Wage Change Rate\", \"Value\": 4.74, \"Recession\": 0, \"Recession2\": 0, \"Recession_Type\": \"  \"}, {\"Year\": 2017, \"Inflation\": 2.13, \"Measure\": \"Mortage\", \"Value\": 3.99, \"Recession\": 0, \"Recession2\": 0, \"Recession_Type\": \"  \"}, {\"Year\": 2017, \"Inflation\": 2.13, \"Measure\": \"WTI Crude Oil \", \"Value\": 17.94, \"Recession\": 0, \"Recession2\": 0, \"Recession_Type\": \"  \"}, {\"Year\": 2018, \"Inflation\": 2.44, \"Measure\": \"Unemployment Rate\", \"Value\": 3.89, \"Recession\": 0, \"Recession2\": 0, \"Recession_Type\": \"  \"}, {\"Year\": 2018, \"Inflation\": 2.44, \"Measure\": \"Wage Change Rate\", \"Value\": 5.02, \"Recession\": 0, \"Recession2\": 0, \"Recession_Type\": \"  \"}, {\"Year\": 2018, \"Inflation\": 2.44, \"Measure\": \"Mortage\", \"Value\": 4.54, \"Recession\": 0, \"Recession2\": 0, \"Recession_Type\": \"  \"}, {\"Year\": 2018, \"Inflation\": 2.44, \"Measure\": \"WTI Crude Oil \", \"Value\": 27.62, \"Recession\": 0, \"Recession2\": 0, \"Recession_Type\": \"  \"}, {\"Year\": 2019, \"Inflation\": 1.81, \"Measure\": \"Unemployment Rate\", \"Value\": 3.68, \"Recession\": 0, \"Recession2\": 0, \"Recession_Type\": \"  \"}, {\"Year\": 2019, \"Inflation\": 1.81, \"Measure\": \"Wage Change Rate\", \"Value\": 4.75, \"Recession\": 0, \"Recession2\": 0, \"Recession_Type\": \"  \"}, {\"Year\": 2019, \"Inflation\": 1.81, \"Measure\": \"Mortage\", \"Value\": 3.94, \"Recession\": 0, \"Recession2\": 0, \"Recession_Type\": \"  \"}, {\"Year\": 2019, \"Inflation\": 1.81, \"Measure\": \"WTI Crude Oil \", \"Value\": -12.25, \"Recession\": 0, \"Recession2\": 0, \"Recession_Type\": \"  \"}, {\"Year\": 2020, \"Inflation\": 1.23, \"Measure\": \"Unemployment Rate\", \"Value\": 8.09, \"Recession\": 80, \"Recession2\": -60, \"Recession_Type\": \"COVID-19 Pandemic\"}, {\"Year\": 2020, \"Inflation\": 1.23, \"Measure\": \"Wage Change Rate\", \"Value\": 1.29, \"Recession\": 80, \"Recession2\": -60, \"Recession_Type\": \"COVID-19 Pandemic\"}, {\"Year\": 2020, \"Inflation\": 1.23, \"Measure\": \"Mortage\", \"Value\": 3.11, \"Recession\": 80, \"Recession2\": -60, \"Recession_Type\": \"COVID-19 Pandemic\"}, {\"Year\": 2020, \"Inflation\": 1.23, \"Measure\": \"WTI Crude Oil \", \"Value\": -31.16, \"Recession\": 80, \"Recession2\": -60, \"Recession_Type\": \"COVID-19 Pandemic\"}, {\"Year\": 2021, \"Inflation\": 4.7, \"Measure\": \"Unemployment Rate\", \"Value\": 5.36, \"Recession\": 0, \"Recession2\": 0, \"Recession_Type\": \"  \"}, {\"Year\": 2021, \"Inflation\": 4.7, \"Measure\": \"Wage Change Rate\", \"Value\": 9.35, \"Recession\": 0, \"Recession2\": 0, \"Recession_Type\": \"  \"}, {\"Year\": 2021, \"Inflation\": 4.7, \"Measure\": \"Mortage\", \"Value\": 2.96, \"Recession\": 0, \"Recession2\": 0, \"Recession_Type\": \"  \"}, {\"Year\": 2021, \"Inflation\": 4.7, \"Measure\": \"WTI Crude Oil \", \"Value\": 73.32, \"Recession\": 0, \"Recession2\": 0, \"Recession_Type\": \"  \"}]}}, {\"mode\": \"vega-lite\"});\n",
       "</script>"
      ],
      "text/plain": [
       "alt.LayerChart(...)"
      ]
     },
     "execution_count": 66,
     "metadata": {},
     "output_type": "execute_result"
    }
   ],
   "source": [
    "measurechart = alt.Chart(data).mark_line().encode(\n",
    "    alt.X('Year:O'),\n",
    "    alt.Y('Value:Q', axis = alt.Axis(title = 'Percentage %')),\n",
    "    color = alt.Color('Measure:N')\n",
    ")\n",
    "inflationline = alt.Chart(data).mark_line().encode(\n",
    "    alt.X('Year:O'),\n",
    "    alt.Y('Inflation:Q', axis= alt.Axis(title = None)),\n",
    "    color = alt.value('#000000')\n",
    ")\n",
    "\n",
    "measurechart+inflationline"
   ]
  },
  {
   "cell_type": "code",
   "execution_count": 67,
   "id": "c11735fb",
   "metadata": {},
   "outputs": [
    {
     "data": {
      "text/html": [
       "\n",
       "<div id=\"altair-viz-2f3c82cbd729404da4ffa59fb323752e\"></div>\n",
       "<script type=\"text/javascript\">\n",
       "  var VEGA_DEBUG = (typeof VEGA_DEBUG == \"undefined\") ? {} : VEGA_DEBUG;\n",
       "  (function(spec, embedOpt){\n",
       "    let outputDiv = document.currentScript.previousElementSibling;\n",
       "    if (outputDiv.id !== \"altair-viz-2f3c82cbd729404da4ffa59fb323752e\") {\n",
       "      outputDiv = document.getElementById(\"altair-viz-2f3c82cbd729404da4ffa59fb323752e\");\n",
       "    }\n",
       "    const paths = {\n",
       "      \"vega\": \"https://cdn.jsdelivr.net/npm//vega@5?noext\",\n",
       "      \"vega-lib\": \"https://cdn.jsdelivr.net/npm//vega-lib?noext\",\n",
       "      \"vega-lite\": \"https://cdn.jsdelivr.net/npm//vega-lite@4.17.0?noext\",\n",
       "      \"vega-embed\": \"https://cdn.jsdelivr.net/npm//vega-embed@6?noext\",\n",
       "    };\n",
       "\n",
       "    function maybeLoadScript(lib, version) {\n",
       "      var key = `${lib.replace(\"-\", \"\")}_version`;\n",
       "      return (VEGA_DEBUG[key] == version) ?\n",
       "        Promise.resolve(paths[lib]) :\n",
       "        new Promise(function(resolve, reject) {\n",
       "          var s = document.createElement('script');\n",
       "          document.getElementsByTagName(\"head\")[0].appendChild(s);\n",
       "          s.async = true;\n",
       "          s.onload = () => {\n",
       "            VEGA_DEBUG[key] = version;\n",
       "            return resolve(paths[lib]);\n",
       "          };\n",
       "          s.onerror = () => reject(`Error loading script: ${paths[lib]}`);\n",
       "          s.src = paths[lib];\n",
       "        });\n",
       "    }\n",
       "\n",
       "    function showError(err) {\n",
       "      outputDiv.innerHTML = `<div class=\"error\" style=\"color:red;\">${err}</div>`;\n",
       "      throw err;\n",
       "    }\n",
       "\n",
       "    function displayChart(vegaEmbed) {\n",
       "      vegaEmbed(outputDiv, spec, embedOpt)\n",
       "        .catch(err => showError(`Javascript Error: ${err.message}<br>This usually means there's a typo in your chart specification. See the javascript console for the full traceback.`));\n",
       "    }\n",
       "\n",
       "    if(typeof define === \"function\" && define.amd) {\n",
       "      requirejs.config({paths});\n",
       "      require([\"vega-embed\"], displayChart, err => showError(`Error loading script: ${err.message}`));\n",
       "    } else {\n",
       "      maybeLoadScript(\"vega\", \"5\")\n",
       "        .then(() => maybeLoadScript(\"vega-lite\", \"4.17.0\"))\n",
       "        .then(() => maybeLoadScript(\"vega-embed\", \"6\"))\n",
       "        .catch(showError)\n",
       "        .then(() => displayChart(vegaEmbed));\n",
       "    }\n",
       "  })({\"config\": {\"view\": {\"continuousWidth\": 400, \"continuousHeight\": 300}}, \"layer\": [{\"mark\": {\"type\": \"bar\", \"color\": \"#dedede\", \"size\": 20}, \"encoding\": {\"x\": {\"field\": \"Year\", \"type\": \"ordinal\"}, \"y\": {\"field\": \"Recession\", \"type\": \"quantitative\"}, \"y2\": {\"field\": \"Recession2\"}}}, {\"mark\": \"line\", \"encoding\": {\"color\": {\"field\": \"Measure\", \"type\": \"nominal\"}, \"opacity\": {\"condition\": {\"value\": 0.9, \"selection\": \"Select\"}, \"value\": 0.1}, \"x\": {\"axis\": {\"title\": \"Year\"}, \"field\": \"Year\", \"type\": \"ordinal\"}, \"y\": {\"field\": \"Value\", \"type\": \"quantitative\"}}, \"height\": 400, \"selection\": {\"Select\": {\"type\": \"single\", \"fields\": [\"Measure\"], \"init\": {\"Measure\": \"WTI Crude Oil\"}, \"bind\": {\"input\": \"select\", \"options\": [\"Unemployment Rate\", \"Wage Change Rate\", \"Mortage\", \"WTI Crude Oil\"]}}}, \"width\": 800}, {\"mark\": \"line\", \"encoding\": {\"color\": {\"value\": \"#000000\"}, \"x\": {\"field\": \"Year\", \"type\": \"ordinal\"}, \"y\": {\"axis\": {\"title\": null}, \"field\": \"Inflation\", \"type\": \"quantitative\"}}}], \"data\": {\"name\": \"data-dda4ed0ff7e7882c6c05067fd368dc07\"}, \"encoding\": {\"tooltip\": [{\"field\": \"Year\", \"type\": \"ordinal\"}, {\"field\": \"Inflation\", \"type\": \"quantitative\"}, {\"field\": \"Measure\", \"type\": \"nominal\"}, {\"field\": \"Value\", \"type\": \"quantitative\"}]}, \"$schema\": \"https://vega.github.io/schema/vega-lite/v4.17.0.json\", \"datasets\": {\"data-dda4ed0ff7e7882c6c05067fd368dc07\": [{\"Year\": 1977, \"Inflation\": 6.5, \"Measure\": \"Unemployment Rate\", \"Value\": 7.05, \"Recession\": 0, \"Recession2\": 0, \"Recession_Type\": \" \"}, {\"Year\": 1977, \"Inflation\": 6.5, \"Measure\": \"Wage Change Rate\", \"Value\": 10.49, \"Recession\": 0, \"Recession2\": 0, \"Recession_Type\": \" \"}, {\"Year\": 1977, \"Inflation\": 6.5, \"Measure\": \"Mortage\", \"Value\": 8.84, \"Recession\": 0, \"Recession2\": 0, \"Recession_Type\": \" \"}, {\"Year\": 1977, \"Inflation\": 6.5, \"Measure\": \"WTI Crude Oil \", \"Value\": 13.06, \"Recession\": 0, \"Recession2\": 0, \"Recession_Type\": \" \"}, {\"Year\": 1978, \"Inflation\": 7.63, \"Measure\": \"Unemployment Rate\", \"Value\": 6.07, \"Recession\": 0, \"Recession2\": 0, \"Recession_Type\": \" \"}, {\"Year\": 1978, \"Inflation\": 7.63, \"Measure\": \"Wage Change Rate\", \"Value\": 12.72, \"Recession\": 0, \"Recession2\": 0, \"Recession_Type\": \" \"}, {\"Year\": 1978, \"Inflation\": 7.63, \"Measure\": \"Mortage\", \"Value\": 9.63, \"Recession\": 0, \"Recession2\": 0, \"Recession_Type\": \" \"}, {\"Year\": 1978, \"Inflation\": 7.63, \"Measure\": \"WTI Crude Oil \", \"Value\": 3.88, \"Recession\": 0, \"Recession2\": 0, \"Recession_Type\": \" \"}, {\"Year\": 1979, \"Inflation\": 11.25, \"Measure\": \"Unemployment Rate\", \"Value\": 5.85, \"Recession\": 0, \"Recession2\": 0, \"Recession_Type\": \" \"}, {\"Year\": 1979, \"Inflation\": 11.25, \"Measure\": \"Wage Change Rate\", \"Value\": 11.85, \"Recession\": 0, \"Recession2\": 0, \"Recession_Type\": \" \"}, {\"Year\": 1979, \"Inflation\": 11.25, \"Measure\": \"Mortage\", \"Value\": 11.19, \"Recession\": 0, \"Recession2\": 0, \"Recession_Type\": \" \"}, {\"Year\": 1979, \"Inflation\": 11.25, \"Measure\": \"WTI Crude Oil \", \"Value\": 50.87, \"Recession\": 0, \"Recession2\": 0, \"Recession_Type\": \" \"}, {\"Year\": 1980, \"Inflation\": 13.55, \"Measure\": \"Unemployment Rate\", \"Value\": 7.18, \"Recession\": 80, \"Recession2\": -60, \"Recession_Type\": \"The Double-Dip Recession\"}, {\"Year\": 1980, \"Inflation\": 13.55, \"Measure\": \"Wage Change Rate\", \"Value\": 9.58, \"Recession\": 80, \"Recession2\": -60, \"Recession_Type\": \"The Double-Dip Recession\"}, {\"Year\": 1980, \"Inflation\": 13.55, \"Measure\": \"Mortage\", \"Value\": 13.74, \"Recession\": 80, \"Recession2\": -60, \"Recession_Type\": \"The Double-Dip Recession\"}, {\"Year\": 1980, \"Inflation\": 13.55, \"Measure\": \"WTI Crude Oil \", \"Value\": 66.82, \"Recession\": 80, \"Recession2\": -60, \"Recession_Type\": \"The Double-Dip Recession\"}, {\"Year\": 1981, \"Inflation\": 10.33, \"Measure\": \"Unemployment Rate\", \"Value\": 7.62, \"Recession\": 80, \"Recession2\": -60, \"Recession_Type\": \"The Double-Dip Recession\"}, {\"Year\": 1981, \"Inflation\": 10.33, \"Measure\": \"Wage Change Rate\", \"Value\": 10.04, \"Recession\": 80, \"Recession2\": -60, \"Recession_Type\": \"The Double-Dip Recession\"}, {\"Year\": 1981, \"Inflation\": 10.33, \"Measure\": \"Mortage\", \"Value\": 16.64, \"Recession\": 80, \"Recession2\": -60, \"Recession_Type\": \"The Double-Dip Recession\"}, {\"Year\": 1981, \"Inflation\": 10.33, \"Measure\": \"WTI Crude Oil \", \"Value\": -1.9, \"Recession\": 80, \"Recession2\": -60, \"Recession_Type\": \"The Double-Dip Recession\"}, {\"Year\": 1982, \"Inflation\": 6.13, \"Measure\": \"Unemployment Rate\", \"Value\": 9.71, \"Recession\": 80, \"Recession2\": -60, \"Recession_Type\": \"The Double-Dip Recession\"}, {\"Year\": 1982, \"Inflation\": 6.13, \"Measure\": \"Wage Change Rate\", \"Value\": 5.04, \"Recession\": 80, \"Recession2\": -60, \"Recession_Type\": \"The Double-Dip Recession\"}, {\"Year\": 1982, \"Inflation\": 6.13, \"Measure\": \"Mortage\", \"Value\": 16.04, \"Recession\": 80, \"Recession2\": -60, \"Recession_Type\": \"The Double-Dip Recession\"}, {\"Year\": 1982, \"Inflation\": 6.13, \"Measure\": \"WTI Crude Oil \", \"Value\": -8.27, \"Recession\": 80, \"Recession2\": -60, \"Recession_Type\": \"The Double-Dip Recession\"}, {\"Year\": 1983, \"Inflation\": 3.21, \"Measure\": \"Unemployment Rate\", \"Value\": 9.6, \"Recession\": 0, \"Recession2\": 0, \"Recession_Type\": \"  \"}, {\"Year\": 1983, \"Inflation\": 3.21, \"Measure\": \"Wage Change Rate\", \"Value\": 5.67, \"Recession\": 0, \"Recession2\": 0, \"Recession_Type\": \"  \"}, {\"Year\": 1983, \"Inflation\": 3.21, \"Measure\": \"Mortage\", \"Value\": 13.24, \"Recession\": 0, \"Recession2\": 0, \"Recession_Type\": \"  \"}, {\"Year\": 1983, \"Inflation\": 3.21, \"Measure\": \"WTI Crude Oil \", \"Value\": -9.64, \"Recession\": 0, \"Recession2\": 0, \"Recession_Type\": \"  \"}, {\"Year\": 1984, \"Inflation\": 4.3, \"Measure\": \"Unemployment Rate\", \"Value\": 7.51, \"Recession\": 0, \"Recession2\": 0, \"Recession_Type\": \"  \"}, {\"Year\": 1984, \"Inflation\": 4.3, \"Measure\": \"Wage Change Rate\", \"Value\": 9.98, \"Recession\": 0, \"Recession2\": 0, \"Recession_Type\": \"  \"}, {\"Year\": 1984, \"Inflation\": 4.3, \"Measure\": \"Mortage\", \"Value\": 13.88, \"Recession\": 0, \"Recession2\": 0, \"Recession_Type\": \"  \"}, {\"Year\": 1984, \"Inflation\": 4.3, \"Measure\": \"WTI Crude Oil \", \"Value\": -3.68, \"Recession\": 0, \"Recession2\": 0, \"Recession_Type\": \"Early 1990s Recession\"}, {\"Year\": 1985, \"Inflation\": 3.55, \"Measure\": \"Unemployment Rate\", \"Value\": 7.19, \"Recession\": 0, \"Recession2\": 0, \"Recession_Type\": \"Early 1990s Recession\"}, {\"Year\": 1985, \"Inflation\": 3.55, \"Measure\": \"Wage Change Rate\", \"Value\": 7.46, \"Recession\": 0, \"Recession2\": 0, \"Recession_Type\": \"Early 1990s Recession\"}, {\"Year\": 1985, \"Inflation\": 3.55, \"Measure\": \"Mortage\", \"Value\": 12.46, \"Recession\": 0, \"Recession2\": 0, \"Recession_Type\": \"Early 1990s Recession\"}, {\"Year\": 1985, \"Inflation\": 3.55, \"Measure\": \"WTI Crude Oil \", \"Value\": -4.45, \"Recession\": 0, \"Recession2\": 0, \"Recession_Type\": \"Early 1990s Recession\"}, {\"Year\": 1986, \"Inflation\": 1.9, \"Measure\": \"Unemployment Rate\", \"Value\": 7.0, \"Recession\": 0, \"Recession2\": 0, \"Recession_Type\": \"  \"}, {\"Year\": 1986, \"Inflation\": 1.9, \"Measure\": \"Wage Change Rate\", \"Value\": 6.04, \"Recession\": 0, \"Recession2\": 0, \"Recession_Type\": \"  \"}, {\"Year\": 1986, \"Inflation\": 1.9, \"Measure\": \"Mortage\", \"Value\": 10.19, \"Recession\": 0, \"Recession2\": 0, \"Recession_Type\": \"  \"}, {\"Year\": 1986, \"Inflation\": 1.9, \"Measure\": \"WTI Crude Oil \", \"Value\": -46.23, \"Recession\": 0, \"Recession2\": 0, \"Recession_Type\": \"  \"}, {\"Year\": 1987, \"Inflation\": 3.66, \"Measure\": \"Unemployment Rate\", \"Value\": 6.18, \"Recession\": 0, \"Recession2\": 0, \"Recession_Type\": null}, {\"Year\": 1987, \"Inflation\": 3.66, \"Measure\": \"Wage Change Rate\", \"Value\": 7.32, \"Recession\": 0, \"Recession2\": 0, \"Recession_Type\": \"  \"}, {\"Year\": 1987, \"Inflation\": 3.66, \"Measure\": \"Mortage\", \"Value\": 10.21, \"Recession\": 0, \"Recession2\": 0, \"Recession_Type\": \"  \"}, {\"Year\": 1987, \"Inflation\": 3.66, \"Measure\": \"WTI Crude Oil \", \"Value\": 27.41, \"Recession\": 0, \"Recession2\": 0, \"Recession_Type\": \"  \"}, {\"Year\": 1988, \"Inflation\": 4.08, \"Measure\": \"Unemployment Rate\", \"Value\": 5.49, \"Recession\": 0, \"Recession2\": 0, \"Recession_Type\": \"  \"}, {\"Year\": 1988, \"Inflation\": 4.08, \"Measure\": \"Wage Change Rate\", \"Value\": 8.13, \"Recession\": 0, \"Recession2\": 0, \"Recession_Type\": \"  \"}, {\"Year\": 1988, \"Inflation\": 4.08, \"Measure\": \"Mortage\", \"Value\": 10.34, \"Recession\": 0, \"Recession2\": 0, \"Recession_Type\": \"  \"}, {\"Year\": 1988, \"Inflation\": 4.08, \"Measure\": \"WTI Crude Oil \", \"Value\": -16.71, \"Recession\": 0, \"Recession2\": 0, \"Recession_Type\": \"  \"}, {\"Year\": 1989, \"Inflation\": 4.83, \"Measure\": \"Unemployment Rate\", \"Value\": 5.26, \"Recession\": 0, \"Recession2\": 0, \"Recession_Type\": \"  \"}, {\"Year\": 1989, \"Inflation\": 4.83, \"Measure\": \"Wage Change Rate\", \"Value\": 5.87, \"Recession\": 0, \"Recession2\": 0, \"Recession_Type\": \"  \"}, {\"Year\": 1989, \"Inflation\": 4.83, \"Measure\": \"Mortage\", \"Value\": 10.32, \"Recession\": 0, \"Recession2\": 0, \"Recession_Type\": \"  \"}, {\"Year\": 1989, \"Inflation\": 4.83, \"Measure\": \"WTI Crude Oil \", \"Value\": 22.75, \"Recession\": 0, \"Recession2\": 0, \"Recession_Type\": \"  \"}, {\"Year\": 1990, \"Inflation\": 5.4, \"Measure\": \"Unemployment Rate\", \"Value\": 5.62, \"Recession\": 80, \"Recession2\": -60, \"Recession_Type\": \"Early 1990s Recession\"}, {\"Year\": 1990, \"Inflation\": 5.4, \"Measure\": \"Wage Change Rate\", \"Value\": 6.12, \"Recession\": 80, \"Recession2\": -60, \"Recession_Type\": \"Early 1990s Recession\"}, {\"Year\": 1990, \"Inflation\": 5.4, \"Measure\": \"Mortage\", \"Value\": 10.13, \"Recession\": 80, \"Recession2\": -60, \"Recession_Type\": \"Early 1990s Recession\"}, {\"Year\": 1990, \"Inflation\": 5.4, \"Measure\": \"WTI Crude Oil \", \"Value\": 25.02, \"Recession\": 80, \"Recession2\": -60, \"Recession_Type\": \"Early 1990s Recession\"}, {\"Year\": 1991, \"Inflation\": 4.23, \"Measure\": \"Unemployment Rate\", \"Value\": 6.85, \"Recession\": 80, \"Recession2\": -60, \"Recession_Type\": \"Early 1990s Recession\"}, {\"Year\": 1991, \"Inflation\": 4.23, \"Measure\": \"Wage Change Rate\", \"Value\": 2.67, \"Recession\": 80, \"Recession2\": -60, \"Recession_Type\": \"Early 1990s Recession\"}, {\"Year\": 1991, \"Inflation\": 4.23, \"Measure\": \"Mortage\", \"Value\": 9.25, \"Recession\": 80, \"Recession2\": -60, \"Recession_Type\": \"Early 1990s Recession\"}, {\"Year\": 1991, \"Inflation\": 4.23, \"Measure\": \"WTI Crude Oil \", \"Value\": -12.3, \"Recession\": 80, \"Recession2\": -60, \"Recession_Type\": \"Early 1990s Recession\"}, {\"Year\": 1992, \"Inflation\": 3.03, \"Measure\": \"Unemployment Rate\", \"Value\": 7.49, \"Recession\": 0, \"Recession2\": 0, \"Recession_Type\": \"  \"}, {\"Year\": 1992, \"Inflation\": 3.03, \"Measure\": \"Wage Change Rate\", \"Value\": 5.37, \"Recession\": 0, \"Recession2\": 0, \"Recession_Type\": \"  \"}, {\"Year\": 1992, \"Inflation\": 3.03, \"Measure\": \"Mortage\", \"Value\": 8.39, \"Recession\": 0, \"Recession2\": 0, \"Recession_Type\": \"  \"}, {\"Year\": 1992, \"Inflation\": 3.03, \"Measure\": \"WTI Crude Oil \", \"Value\": -4.28, \"Recession\": 0, \"Recession2\": 0, \"Recession_Type\": \"  \"}, {\"Year\": 1993, \"Inflation\": 2.95, \"Measure\": \"Unemployment Rate\", \"Value\": 6.91, \"Recession\": 0, \"Recession2\": 0, \"Recession_Type\": \"  \"}, {\"Year\": 1993, \"Inflation\": 2.95, \"Measure\": \"Wage Change Rate\", \"Value\": 3.84, \"Recession\": 0, \"Recession2\": 0, \"Recession_Type\": \"  \"}, {\"Year\": 1993, \"Inflation\": 2.95, \"Measure\": \"Mortage\", \"Value\": 7.31, \"Recession\": 0, \"Recession2\": 0, \"Recession_Type\": \"  \"}, {\"Year\": 1993, \"Inflation\": 2.95, \"Measure\": \"WTI Crude Oil \", \"Value\": -10.23, \"Recession\": 0, \"Recession2\": 0, \"Recession_Type\": \"  \"}, {\"Year\": 1994, \"Inflation\": 2.61, \"Measure\": \"Unemployment Rate\", \"Value\": 6.1, \"Recession\": 0, \"Recession2\": 0, \"Recession_Type\": \"  \"}, {\"Year\": 1994, \"Inflation\": 2.61, \"Measure\": \"Wage Change Rate\", \"Value\": 5.11, \"Recession\": 0, \"Recession2\": 0, \"Recession_Type\": \"  \"}, {\"Year\": 1994, \"Inflation\": 2.61, \"Measure\": \"Mortage\", \"Value\": 8.38, \"Recession\": 0, \"Recession2\": 0, \"Recession_Type\": \"  \"}, {\"Year\": 1994, \"Inflation\": 2.61, \"Measure\": \"WTI Crude Oil \", \"Value\": -6.89, \"Recession\": 0, \"Recession2\": 0, \"Recession_Type\": \"  \"}, {\"Year\": 1995, \"Inflation\": 2.81, \"Measure\": \"Unemployment Rate\", \"Value\": 5.59, \"Recession\": 0, \"Recession2\": 0, \"Recession_Type\": \"  \"}, {\"Year\": 1995, \"Inflation\": 2.81, \"Measure\": \"Wage Change Rate\", \"Value\": 5.61, \"Recession\": 0, \"Recession2\": 0, \"Recession_Type\": \"  \"}, {\"Year\": 1995, \"Inflation\": 2.81, \"Measure\": \"Mortage\", \"Value\": 7.93, \"Recession\": 0, \"Recession2\": 0, \"Recession_Type\": \"  \"}, {\"Year\": 1995, \"Inflation\": 2.81, \"Measure\": \"WTI Crude Oil \", \"Value\": 7.22, \"Recession\": 0, \"Recession2\": 0, \"Recession_Type\": \"  \"}, {\"Year\": 1996, \"Inflation\": 2.93, \"Measure\": \"Unemployment Rate\", \"Value\": 5.41, \"Recession\": 0, \"Recession2\": 0, \"Recession_Type\": \"  \"}, {\"Year\": 1996, \"Inflation\": 2.93, \"Measure\": \"Wage Change Rate\", \"Value\": 5.81, \"Recession\": 0, \"Recession2\": 0, \"Recession_Type\": \"  \"}, {\"Year\": 1996, \"Inflation\": 2.93, \"Measure\": \"Mortage\", \"Value\": 7.81, \"Recession\": 0, \"Recession2\": 0, \"Recession_Type\": \"  \"}, {\"Year\": 1996, \"Inflation\": 2.93, \"Measure\": \"WTI Crude Oil \", \"Value\": 20.22, \"Recession\": 0, \"Recession2\": 0, \"Recession_Type\": \"  \"}, {\"Year\": 1997, \"Inflation\": 2.34, \"Measure\": \"Unemployment Rate\", \"Value\": 4.94, \"Recession\": 0, \"Recession2\": 0, \"Recession_Type\": \"  \"}, {\"Year\": 1997, \"Inflation\": 2.34, \"Measure\": \"Wage Change Rate\", \"Value\": 7.2, \"Recession\": 0, \"Recession2\": 0, \"Recession_Type\": \"  \"}, {\"Year\": 1997, \"Inflation\": 2.34, \"Measure\": \"Mortage\", \"Value\": 7.6, \"Recession\": 0, \"Recession2\": 0, \"Recession_Type\": \"  \"}, {\"Year\": 1997, \"Inflation\": 2.34, \"Measure\": \"WTI Crude Oil \", \"Value\": -7.02, \"Recession\": 0, \"Recession2\": 0, \"Recession_Type\": \"  \"}, {\"Year\": 1998, \"Inflation\": 1.55, \"Measure\": \"Unemployment Rate\", \"Value\": 4.5, \"Recession\": 0, \"Recession2\": 0, \"Recession_Type\": \"  \"}, {\"Year\": 1998, \"Inflation\": 1.55, \"Measure\": \"Wage Change Rate\", \"Value\": 7.86, \"Recession\": 0, \"Recession2\": 0, \"Recession_Type\": \"  \"}, {\"Year\": 1998, \"Inflation\": 1.55, \"Measure\": \"Mortage\", \"Value\": 6.94, \"Recession\": 0, \"Recession2\": 0, \"Recession_Type\": \"  \"}, {\"Year\": 1998, \"Inflation\": 1.55, \"Measure\": \"WTI Crude Oil \", \"Value\": -30.15, \"Recession\": 0, \"Recession2\": 0, \"Recession_Type\": \"  \"}, {\"Year\": 1999, \"Inflation\": 2.19, \"Measure\": \"Unemployment Rate\", \"Value\": 4.22, \"Recession\": 0, \"Recession2\": 0, \"Recession_Type\": \"  \"}, {\"Year\": 1999, \"Inflation\": 2.19, \"Measure\": \"Wage Change Rate\", \"Value\": 6.61, \"Recession\": 0, \"Recession2\": 0, \"Recession_Type\": \"  \"}, {\"Year\": 1999, \"Inflation\": 2.19, \"Measure\": \"Mortage\", \"Value\": 7.44, \"Recession\": 0, \"Recession2\": 0, \"Recession_Type\": \"  \"}, {\"Year\": 1999, \"Inflation\": 2.19, \"Measure\": \"WTI Crude Oil \", \"Value\": 33.8, \"Recession\": 0, \"Recession2\": 0, \"Recession_Type\": \"  \"}, {\"Year\": 2000, \"Inflation\": 3.38, \"Measure\": \"Unemployment Rate\", \"Value\": 3.97, \"Recession\": 0, \"Recession2\": 0, \"Recession_Type\": \"  \"}, {\"Year\": 2000, \"Inflation\": 3.38, \"Measure\": \"Wage Change Rate\", \"Value\": 8.23, \"Recession\": 0, \"Recession2\": 0, \"Recession_Type\": \"  \"}, {\"Year\": 2000, \"Inflation\": 3.38, \"Measure\": \"Mortage\", \"Value\": 8.05, \"Recession\": 0, \"Recession2\": 0, \"Recession_Type\": \"  \"}, {\"Year\": 2000, \"Inflation\": 3.38, \"Measure\": \"WTI Crude Oil \", \"Value\": 57.38, \"Recession\": 0, \"Recession2\": 0, \"Recession_Type\": \"  \"}, {\"Year\": 2001, \"Inflation\": 2.83, \"Measure\": \"Unemployment Rate\", \"Value\": 4.74, \"Recession\": 80, \"Recession2\": -60, \"Recession_Type\": \" The Dot Com Bust\"}, {\"Year\": 2001, \"Inflation\": 2.83, \"Measure\": \"Wage Change Rate\", \"Value\": 2.67, \"Recession\": 80, \"Recession2\": -60, \"Recession_Type\": \" The Dot Com Bust\"}, {\"Year\": 2001, \"Inflation\": 2.83, \"Measure\": \"Mortage\", \"Value\": 6.97, \"Recession\": 80, \"Recession2\": -60, \"Recession_Type\": \" The Dot Com Bust\"}, {\"Year\": 2001, \"Inflation\": 2.83, \"Measure\": \"WTI Crude Oil \", \"Value\": -14.44, \"Recession\": 80, \"Recession2\": -60, \"Recession_Type\": \" The Dot Com Bust\"}, {\"Year\": 2002, \"Inflation\": 1.59, \"Measure\": \"Unemployment Rate\", \"Value\": 5.78, \"Recession\": 0, \"Recession2\": 0, \"Recession_Type\": null}, {\"Year\": 2002, \"Inflation\": 1.59, \"Measure\": \"Wage Change Rate\", \"Value\": 0.85, \"Recession\": 0, \"Recession2\": 0, \"Recession_Type\": null}, {\"Year\": 2002, \"Inflation\": 1.59, \"Measure\": \"Mortage\", \"Value\": 6.54, \"Recession\": 0, \"Recession2\": 0, \"Recession_Type\": null}, {\"Year\": 2002, \"Inflation\": 1.59, \"Measure\": \"WTI Crude Oil \", \"Value\": 0.67, \"Recession\": 0, \"Recession2\": 0, \"Recession_Type\": null}, {\"Year\": 2003, \"Inflation\": 2.27, \"Measure\": \"Unemployment Rate\", \"Value\": 5.99, \"Recession\": 0, \"Recession2\": 0, \"Recession_Type\": \"  \"}, {\"Year\": 2003, \"Inflation\": 2.27, \"Measure\": \"Wage Change Rate\", \"Value\": 2.85, \"Recession\": 0, \"Recession2\": 0, \"Recession_Type\": \"  \"}, {\"Year\": 2003, \"Inflation\": 2.27, \"Measure\": \"Mortage\", \"Value\": 5.83, \"Recession\": 0, \"Recession2\": 0, \"Recession_Type\": \"  \"}, {\"Year\": 2003, \"Inflation\": 2.27, \"Measure\": \"WTI Crude Oil \", \"Value\": 19.32, \"Recession\": 0, \"Recession2\": 0, \"Recession_Type\": \"  \"}, {\"Year\": 2004, \"Inflation\": 2.68, \"Measure\": \"Unemployment Rate\", \"Value\": 5.54, \"Recession\": 0, \"Recession2\": 0, \"Recession_Type\": \"  \"}, {\"Year\": 2004, \"Inflation\": 2.68, \"Measure\": \"Wage Change Rate\", \"Value\": 5.5, \"Recession\": 0, \"Recession2\": 0, \"Recession_Type\": \"  \"}, {\"Year\": 2004, \"Inflation\": 2.68, \"Measure\": \"Mortage\", \"Value\": 5.84, \"Recession\": 0, \"Recession2\": 0, \"Recession_Type\": \"  \"}, {\"Year\": 2004, \"Inflation\": 2.68, \"Measure\": \"WTI Crude Oil \", \"Value\": 33.07, \"Recession\": 0, \"Recession2\": 0, \"Recession_Type\": \"  \"}, {\"Year\": 2005, \"Inflation\": 3.39, \"Measure\": \"Unemployment Rate\", \"Value\": 5.08, \"Recession\": 0, \"Recession2\": 0, \"Recession_Type\": \"  \"}, {\"Year\": 2005, \"Inflation\": 3.39, \"Measure\": \"Wage Change Rate\", \"Value\": 4.99, \"Recession\": 0, \"Recession2\": 0, \"Recession_Type\": \"  \"}, {\"Year\": 2005, \"Inflation\": 3.39, \"Measure\": \"Mortage\", \"Value\": 5.87, \"Recession\": 0, \"Recession2\": 0, \"Recession_Type\": \"  \"}, {\"Year\": 2005, \"Inflation\": 3.39, \"Measure\": \"WTI Crude Oil \", \"Value\": 36.26, \"Recession\": 0, \"Recession2\": 0, \"Recession_Type\": \"  \"}, {\"Year\": 2006, \"Inflation\": 3.23, \"Measure\": \"Unemployment Rate\", \"Value\": 4.61, \"Recession\": 0, \"Recession2\": 0, \"Recession_Type\": \"  \"}, {\"Year\": 2006, \"Inflation\": 3.23, \"Measure\": \"Wage Change Rate\", \"Value\": 6.42, \"Recession\": 0, \"Recession2\": 0, \"Recession_Type\": \"  \"}, {\"Year\": 2006, \"Inflation\": 3.23, \"Measure\": \"Mortage\", \"Value\": 6.41, \"Recession\": 0, \"Recession2\": 0, \"Recession_Type\": \"  \"}, {\"Year\": 2006, \"Inflation\": 3.23, \"Measure\": \"WTI Crude Oil \", \"Value\": 17.07, \"Recession\": 0, \"Recession2\": 0, \"Recession_Type\": \"  \"}, {\"Year\": 2007, \"Inflation\": 2.85, \"Measure\": \"Unemployment Rate\", \"Value\": 4.62, \"Recession\": 80, \"Recession2\": -60, \"Recession_Type\": \"The Great Recession\"}, {\"Year\": 2007, \"Inflation\": 2.85, \"Measure\": \"Wage Change Rate\", \"Value\": 5.61, \"Recession\": 80, \"Recession2\": -60, \"Recession_Type\": \"The Great Recession\"}, {\"Year\": 2007, \"Inflation\": 2.85, \"Measure\": \"Mortage\", \"Value\": 6.34, \"Recession\": 80, \"Recession2\": -60, \"Recession_Type\": \"The Great Recession\"}, {\"Year\": 2007, \"Inflation\": 2.85, \"Measure\": \"WTI Crude Oil \", \"Value\": 9.47, \"Recession\": 80, \"Recession2\": -60, \"Recession_Type\": \"The Great Recession\"}, {\"Year\": 2008, \"Inflation\": 3.84, \"Measure\": \"Unemployment Rate\", \"Value\": 5.8, \"Recession\": 80, \"Recession2\": -60, \"Recession_Type\": \"The Great Recession\"}, {\"Year\": 2008, \"Inflation\": 3.84, \"Measure\": \"Wage Change Rate\", \"Value\": 2.15, \"Recession\": 80, \"Recession2\": -60, \"Recession_Type\": \"The Great Recession\"}, {\"Year\": 2008, \"Inflation\": 3.84, \"Measure\": \"Mortage\", \"Value\": 6.01, \"Recession\": 80, \"Recession2\": -60, \"Recession_Type\": \"The Great Recession\"}, {\"Year\": 2008, \"Inflation\": 3.84, \"Measure\": \"WTI Crude Oil \", \"Value\": 37.6, \"Recession\": 80, \"Recession2\": -60, \"Recession_Type\": \"The Great Recession\"}, {\"Year\": 2009, \"Inflation\": -0.36, \"Measure\": \"Unemployment Rate\", \"Value\": 9.28, \"Recession\": 80, \"Recession2\": -60, \"Recession_Type\": \"The Great Recession\"}, {\"Year\": 2009, \"Inflation\": -0.36, \"Measure\": \"Wage Change Rate\", \"Value\": -4.36, \"Recession\": 80, \"Recession2\": -60, \"Recession_Type\": \"The Great Recession\"}, {\"Year\": 2009, \"Inflation\": -0.36, \"Measure\": \"Mortage\", \"Value\": 5.04, \"Recession\": 80, \"Recession2\": -60, \"Recession_Type\": \"The Great Recession\"}, {\"Year\": 2009, \"Inflation\": -0.36, \"Measure\": \"WTI Crude Oil \", \"Value\": -38.04, \"Recession\": 80, \"Recession2\": -60, \"Recession_Type\": \"The Great Recession\"}, {\"Year\": 2010, \"Inflation\": 1.64, \"Measure\": \"Unemployment Rate\", \"Value\": 9.61, \"Recession\": 0, \"Recession2\": 0, \"Recession_Type\": \"  \"}, {\"Year\": 2010, \"Inflation\": 1.64, \"Measure\": \"Wage Change Rate\", \"Value\": 1.97, \"Recession\": 0, \"Recession2\": 0, \"Recession_Type\": \"  \"}, {\"Year\": 2010, \"Inflation\": 1.64, \"Measure\": \"Mortage\", \"Value\": 4.69, \"Recession\": 0, \"Recession2\": 0, \"Recession_Type\": \"  \"}, {\"Year\": 2010, \"Inflation\": 1.64, \"Measure\": \"WTI Crude Oil \", \"Value\": 28.75, \"Recession\": 0, \"Recession2\": 0, \"Recession_Type\": \"  \"}, {\"Year\": 2011, \"Inflation\": 3.16, \"Measure\": \"Unemployment Rate\", \"Value\": 8.93, \"Recession\": 0, \"Recession2\": 0, \"Recession_Type\": \"  \"}, {\"Year\": 2011, \"Inflation\": 3.16, \"Measure\": \"Wage Change Rate\", \"Value\": 3.98, \"Recession\": 0, \"Recession2\": 0, \"Recession_Type\": \"  \"}, {\"Year\": 2011, \"Inflation\": 3.16, \"Measure\": \"Mortage\", \"Value\": 4.45, \"Recession\": 0, \"Recession2\": 0, \"Recession_Type\": \"  \"}, {\"Year\": 2011, \"Inflation\": 3.16, \"Measure\": \"WTI Crude Oil \", \"Value\": 19.7, \"Recession\": 0, \"Recession2\": 0, \"Recession_Type\": \"  \"}, {\"Year\": 2012, \"Inflation\": 2.07, \"Measure\": \"Unemployment Rate\", \"Value\": 8.07, \"Recession\": 0, \"Recession2\": 0, \"Recession_Type\": \"  \"}, {\"Year\": 2012, \"Inflation\": 2.07, \"Measure\": \"Wage Change Rate\", \"Value\": 4.56, \"Recession\": 0, \"Recession2\": 0, \"Recession_Type\": \"  \"}, {\"Year\": 2012, \"Inflation\": 2.07, \"Measure\": \"Mortage\", \"Value\": 3.66, \"Recession\": 0, \"Recession2\": 0, \"Recession_Type\": \"  \"}, {\"Year\": 2012, \"Inflation\": 2.07, \"Measure\": \"WTI Crude Oil \", \"Value\": -0.92, \"Recession\": 0, \"Recession2\": 0, \"Recession_Type\": \"  \"}, {\"Year\": 2013, \"Inflation\": 1.46, \"Measure\": \"Unemployment Rate\", \"Value\": 7.36, \"Recession\": 0, \"Recession2\": 0, \"Recession_Type\": \"  \"}, {\"Year\": 2013, \"Inflation\": 1.46, \"Measure\": \"Wage Change Rate\", \"Value\": 2.68, \"Recession\": 0, \"Recession2\": 0, \"Recession_Type\": \"  \"}, {\"Year\": 2013, \"Inflation\": 1.46, \"Measure\": \"Mortage\", \"Value\": 3.98, \"Recession\": 0, \"Recession2\": 0, \"Recession_Type\": \"  \"}, {\"Year\": 2013, \"Inflation\": 1.46, \"Measure\": \"WTI Crude Oil \", \"Value\": 3.96, \"Recession\": 0, \"Recession2\": 0, \"Recession_Type\": \"  \"}, {\"Year\": 2014, \"Inflation\": 1.62, \"Measure\": \"Unemployment Rate\", \"Value\": 6.16, \"Recession\": 0, \"Recession2\": 0, \"Recession_Type\": \"  \"}, {\"Year\": 2014, \"Inflation\": 1.62, \"Measure\": \"Wage Change Rate\", \"Value\": 5.09, \"Recession\": 0, \"Recession2\": 0, \"Recession_Type\": \"  \"}, {\"Year\": 2014, \"Inflation\": 1.62, \"Measure\": \"Mortage\", \"Value\": 4.17, \"Recession\": 0, \"Recession2\": 0, \"Recession_Type\": \"  \"}, {\"Year\": 2014, \"Inflation\": 1.62, \"Measure\": \"WTI Crude Oil \", \"Value\": -4.78, \"Recession\": 0, \"Recession2\": 0, \"Recession_Type\": \"  \"}, {\"Year\": 2015, \"Inflation\": 0.12, \"Measure\": \"Unemployment Rate\", \"Value\": 5.28, \"Recession\": 0, \"Recession2\": 0, \"Recession_Type\": \"  \"}, {\"Year\": 2015, \"Inflation\": 0.12, \"Measure\": \"Wage Change Rate\", \"Value\": 5.13, \"Recession\": 0, \"Recession2\": 0, \"Recession_Type\": \"  \"}, {\"Year\": 2015, \"Inflation\": 0.12, \"Measure\": \"Mortage\", \"Value\": 3.85, \"Recession\": 0, \"Recession2\": 0, \"Recession_Type\": \"  \"}, {\"Year\": 2015, \"Inflation\": 0.12, \"Measure\": \"WTI Crude Oil \", \"Value\": -47.79, \"Recession\": 0, \"Recession2\": 0, \"Recession_Type\": \"  \"}, {\"Year\": 2016, \"Inflation\": 1.26, \"Measure\": \"Unemployment Rate\", \"Value\": 4.88, \"Recession\": 0, \"Recession2\": 0, \"Recession_Type\": \"  \"}, {\"Year\": 2016, \"Inflation\": 1.26, \"Measure\": \"Wage Change Rate\", \"Value\": 2.95, \"Recession\": 0, \"Recession2\": 0, \"Recession_Type\": \"  \"}, {\"Year\": 2016, \"Inflation\": 1.26, \"Measure\": \"Mortage\", \"Value\": 3.65, \"Recession\": 0, \"Recession2\": 0, \"Recession_Type\": \"  \"}, {\"Year\": 2016, \"Inflation\": 1.26, \"Measure\": \"WTI Crude Oil \", \"Value\": -11.39, \"Recession\": 0, \"Recession2\": 0, \"Recession_Type\": \"  \"}, {\"Year\": 2017, \"Inflation\": 2.13, \"Measure\": \"Unemployment Rate\", \"Value\": 4.36, \"Recession\": 0, \"Recession2\": 0, \"Recession_Type\": \"  \"}, {\"Year\": 2017, \"Inflation\": 2.13, \"Measure\": \"Wage Change Rate\", \"Value\": 4.74, \"Recession\": 0, \"Recession2\": 0, \"Recession_Type\": \"  \"}, {\"Year\": 2017, \"Inflation\": 2.13, \"Measure\": \"Mortage\", \"Value\": 3.99, \"Recession\": 0, \"Recession2\": 0, \"Recession_Type\": \"  \"}, {\"Year\": 2017, \"Inflation\": 2.13, \"Measure\": \"WTI Crude Oil \", \"Value\": 17.94, \"Recession\": 0, \"Recession2\": 0, \"Recession_Type\": \"  \"}, {\"Year\": 2018, \"Inflation\": 2.44, \"Measure\": \"Unemployment Rate\", \"Value\": 3.89, \"Recession\": 0, \"Recession2\": 0, \"Recession_Type\": \"  \"}, {\"Year\": 2018, \"Inflation\": 2.44, \"Measure\": \"Wage Change Rate\", \"Value\": 5.02, \"Recession\": 0, \"Recession2\": 0, \"Recession_Type\": \"  \"}, {\"Year\": 2018, \"Inflation\": 2.44, \"Measure\": \"Mortage\", \"Value\": 4.54, \"Recession\": 0, \"Recession2\": 0, \"Recession_Type\": \"  \"}, {\"Year\": 2018, \"Inflation\": 2.44, \"Measure\": \"WTI Crude Oil \", \"Value\": 27.62, \"Recession\": 0, \"Recession2\": 0, \"Recession_Type\": \"  \"}, {\"Year\": 2019, \"Inflation\": 1.81, \"Measure\": \"Unemployment Rate\", \"Value\": 3.68, \"Recession\": 0, \"Recession2\": 0, \"Recession_Type\": \"  \"}, {\"Year\": 2019, \"Inflation\": 1.81, \"Measure\": \"Wage Change Rate\", \"Value\": 4.75, \"Recession\": 0, \"Recession2\": 0, \"Recession_Type\": \"  \"}, {\"Year\": 2019, \"Inflation\": 1.81, \"Measure\": \"Mortage\", \"Value\": 3.94, \"Recession\": 0, \"Recession2\": 0, \"Recession_Type\": \"  \"}, {\"Year\": 2019, \"Inflation\": 1.81, \"Measure\": \"WTI Crude Oil \", \"Value\": -12.25, \"Recession\": 0, \"Recession2\": 0, \"Recession_Type\": \"  \"}, {\"Year\": 2020, \"Inflation\": 1.23, \"Measure\": \"Unemployment Rate\", \"Value\": 8.09, \"Recession\": 80, \"Recession2\": -60, \"Recession_Type\": \"COVID-19 Pandemic\"}, {\"Year\": 2020, \"Inflation\": 1.23, \"Measure\": \"Wage Change Rate\", \"Value\": 1.29, \"Recession\": 80, \"Recession2\": -60, \"Recession_Type\": \"COVID-19 Pandemic\"}, {\"Year\": 2020, \"Inflation\": 1.23, \"Measure\": \"Mortage\", \"Value\": 3.11, \"Recession\": 80, \"Recession2\": -60, \"Recession_Type\": \"COVID-19 Pandemic\"}, {\"Year\": 2020, \"Inflation\": 1.23, \"Measure\": \"WTI Crude Oil \", \"Value\": -31.16, \"Recession\": 80, \"Recession2\": -60, \"Recession_Type\": \"COVID-19 Pandemic\"}, {\"Year\": 2021, \"Inflation\": 4.7, \"Measure\": \"Unemployment Rate\", \"Value\": 5.36, \"Recession\": 0, \"Recession2\": 0, \"Recession_Type\": \"  \"}, {\"Year\": 2021, \"Inflation\": 4.7, \"Measure\": \"Wage Change Rate\", \"Value\": 9.35, \"Recession\": 0, \"Recession2\": 0, \"Recession_Type\": \"  \"}, {\"Year\": 2021, \"Inflation\": 4.7, \"Measure\": \"Mortage\", \"Value\": 2.96, \"Recession\": 0, \"Recession2\": 0, \"Recession_Type\": \"  \"}, {\"Year\": 2021, \"Inflation\": 4.7, \"Measure\": \"WTI Crude Oil \", \"Value\": 73.32, \"Recession\": 0, \"Recession2\": 0, \"Recession_Type\": \"  \"}]}}, {\"mode\": \"vega-lite\"});\n",
       "</script>"
      ],
      "text/plain": [
       "alt.LayerChart(...)"
      ]
     },
     "execution_count": 67,
     "metadata": {},
     "output_type": "execute_result"
    }
   ],
   "source": [
    "measurements = ['Unemployment Rate','Wage Change Rate','Mortage','WTI Crude Oil']\n",
    "\n",
    "selection = alt.selection_single(\n",
    "    name='Select', # name the selection 'Select'\n",
    "    fields=['Measure'], # limit selection to the Measure field\n",
    "    init={'Measure': 'WTI Crude Oil'}, # start with unemployment rate\n",
    "    bind=alt.binding_select(options= measurements) # bind to a menu of unique genre values\n",
    ")\n",
    "\n",
    "\n",
    "measurelines = alt.Chart(data).mark_line().add_selection(\n",
    "    selection\n",
    ").encode(\n",
    "    alt.X('Year:O', axis = alt.Axis(title = 'Year')),\n",
    "    alt.Y('Value:Q'),\n",
    "    color = alt.Color('Measure:N'),\n",
    "    opacity = alt.condition(selection, alt.value(0.9),alt.value(0.1))\n",
    ").properties(\n",
    "    width = 800,\n",
    "    height = 400\n",
    ")\n",
    "\n",
    "rec = alt.Chart(data).mark_bar(color = '#dedede', size = 20).encode(\n",
    "    alt.X('Year:O'),\n",
    "    alt.Y('Recession:Q'),\n",
    "    alt.Y2('Recession2:Q')\n",
    ")\n",
    "\n",
    "alt.layer(\n",
    "   rec,\n",
    "   measurelines,\n",
    "   inflationline\n",
    ").encode(\n",
    "    tooltip = [\n",
    "      'Year:O',\n",
    "      'Inflation:Q',\n",
    "      'Measure:N',\n",
    "      'Value:Q'\n",
    "    ]\n",
    ")\n"
   ]
  },
  {
   "cell_type": "code",
   "execution_count": null,
   "id": "8ea9c8c2",
   "metadata": {},
   "outputs": [],
   "source": []
  }
 ],
 "metadata": {
  "kernelspec": {
   "display_name": "Python 3 (ipykernel)",
   "language": "python",
   "name": "python3"
  },
  "language_info": {
   "codemirror_mode": {
    "name": "ipython",
    "version": 3
   },
   "file_extension": ".py",
   "mimetype": "text/x-python",
   "name": "python",
   "nbconvert_exporter": "python",
   "pygments_lexer": "ipython3",
   "version": "3.8.12"
  }
 },
 "nbformat": 4,
 "nbformat_minor": 5
}
